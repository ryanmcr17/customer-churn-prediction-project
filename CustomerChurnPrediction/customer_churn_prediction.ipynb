{
  "cells": [
    {
      "cell_type": "code",
      "execution_count": 44,
      "metadata": {
        "id": "orh7gUL61egS"
      },
      "outputs": [],
      "source": [
        "# Import the modules\n",
        "import numpy as np\n",
        "import pandas as pd\n",
        "from pathlib import Path\n",
        "\n",
        "import sklearn as skl\n",
        "from sklearn.preprocessing import StandardScaler\n",
        "from sklearn.metrics import balanced_accuracy_score, confusion_matrix, classification_report\n",
        "from sklearn.model_selection import train_test_split\n",
        "from sklearn.linear_model import LogisticRegression\n",
        "\n",
        "from imblearn.over_sampling import RandomOverSampler\n",
        "import tensorflow as tf\n"
      ]
    },
    {
      "cell_type": "markdown",
      "metadata": {
        "id": "QVVAZkHZ1egT"
      },
      "source": [
        "---"
      ]
    },
    {
      "cell_type": "markdown",
      "metadata": {
        "id": "sSBA80Te1egT"
      },
      "source": [
        "## Split the Data into Training and Testing Sets"
      ]
    },
    {
      "cell_type": "markdown",
      "metadata": {
        "id": "felNMu_V1egU"
      },
      "source": [
        "### Step 1: Read the `bank_customer_data.csv` file into a Pandas DataFrame."
      ]
    },
    {
      "cell_type": "code",
      "execution_count": 8,
      "metadata": {
        "colab": {
          "base_uri": "https://localhost:8080/",
          "height": 226
        },
        "id": "eQZEgK_91egU",
        "outputId": "80d9e1c0-7d1f-4b49-f3e7-4d08dd2dc041"
      },
      "outputs": [
        {
          "output_type": "execute_result",
          "data": {
            "text/plain": [
              "   RowNumber  CustomerId   Surname  CreditScore Geography  Gender  Age  \\\n",
              "0          1    15634602  Hargrave          619    France  Female   42   \n",
              "1          2    15647311      Hill          608     Spain  Female   41   \n",
              "2          3    15619304      Onio          502    France  Female   42   \n",
              "3          4    15701354      Boni          699    France  Female   39   \n",
              "4          5    15737888  Mitchell          850     Spain  Female   43   \n",
              "\n",
              "   Tenure    Balance  NumOfProducts  HasCrCard  IsActiveMember  \\\n",
              "0       2       0.00              1          1               1   \n",
              "1       1   83807.86              1          0               1   \n",
              "2       8  159660.80              3          1               0   \n",
              "3       1       0.00              2          0               0   \n",
              "4       2  125510.82              1          1               1   \n",
              "\n",
              "   EstimatedSalary  Exited  \n",
              "0        101348.88       1  \n",
              "1        112542.58       0  \n",
              "2        113931.57       1  \n",
              "3         93826.63       0  \n",
              "4         79084.10       0  "
            ],
            "text/html": [
              "\n",
              "  <div id=\"df-be920a64-8643-47df-8704-8bd34f52c0b5\" class=\"colab-df-container\">\n",
              "    <div>\n",
              "<style scoped>\n",
              "    .dataframe tbody tr th:only-of-type {\n",
              "        vertical-align: middle;\n",
              "    }\n",
              "\n",
              "    .dataframe tbody tr th {\n",
              "        vertical-align: top;\n",
              "    }\n",
              "\n",
              "    .dataframe thead th {\n",
              "        text-align: right;\n",
              "    }\n",
              "</style>\n",
              "<table border=\"1\" class=\"dataframe\">\n",
              "  <thead>\n",
              "    <tr style=\"text-align: right;\">\n",
              "      <th></th>\n",
              "      <th>RowNumber</th>\n",
              "      <th>CustomerId</th>\n",
              "      <th>Surname</th>\n",
              "      <th>CreditScore</th>\n",
              "      <th>Geography</th>\n",
              "      <th>Gender</th>\n",
              "      <th>Age</th>\n",
              "      <th>Tenure</th>\n",
              "      <th>Balance</th>\n",
              "      <th>NumOfProducts</th>\n",
              "      <th>HasCrCard</th>\n",
              "      <th>IsActiveMember</th>\n",
              "      <th>EstimatedSalary</th>\n",
              "      <th>Exited</th>\n",
              "    </tr>\n",
              "  </thead>\n",
              "  <tbody>\n",
              "    <tr>\n",
              "      <th>0</th>\n",
              "      <td>1</td>\n",
              "      <td>15634602</td>\n",
              "      <td>Hargrave</td>\n",
              "      <td>619</td>\n",
              "      <td>France</td>\n",
              "      <td>Female</td>\n",
              "      <td>42</td>\n",
              "      <td>2</td>\n",
              "      <td>0.00</td>\n",
              "      <td>1</td>\n",
              "      <td>1</td>\n",
              "      <td>1</td>\n",
              "      <td>101348.88</td>\n",
              "      <td>1</td>\n",
              "    </tr>\n",
              "    <tr>\n",
              "      <th>1</th>\n",
              "      <td>2</td>\n",
              "      <td>15647311</td>\n",
              "      <td>Hill</td>\n",
              "      <td>608</td>\n",
              "      <td>Spain</td>\n",
              "      <td>Female</td>\n",
              "      <td>41</td>\n",
              "      <td>1</td>\n",
              "      <td>83807.86</td>\n",
              "      <td>1</td>\n",
              "      <td>0</td>\n",
              "      <td>1</td>\n",
              "      <td>112542.58</td>\n",
              "      <td>0</td>\n",
              "    </tr>\n",
              "    <tr>\n",
              "      <th>2</th>\n",
              "      <td>3</td>\n",
              "      <td>15619304</td>\n",
              "      <td>Onio</td>\n",
              "      <td>502</td>\n",
              "      <td>France</td>\n",
              "      <td>Female</td>\n",
              "      <td>42</td>\n",
              "      <td>8</td>\n",
              "      <td>159660.80</td>\n",
              "      <td>3</td>\n",
              "      <td>1</td>\n",
              "      <td>0</td>\n",
              "      <td>113931.57</td>\n",
              "      <td>1</td>\n",
              "    </tr>\n",
              "    <tr>\n",
              "      <th>3</th>\n",
              "      <td>4</td>\n",
              "      <td>15701354</td>\n",
              "      <td>Boni</td>\n",
              "      <td>699</td>\n",
              "      <td>France</td>\n",
              "      <td>Female</td>\n",
              "      <td>39</td>\n",
              "      <td>1</td>\n",
              "      <td>0.00</td>\n",
              "      <td>2</td>\n",
              "      <td>0</td>\n",
              "      <td>0</td>\n",
              "      <td>93826.63</td>\n",
              "      <td>0</td>\n",
              "    </tr>\n",
              "    <tr>\n",
              "      <th>4</th>\n",
              "      <td>5</td>\n",
              "      <td>15737888</td>\n",
              "      <td>Mitchell</td>\n",
              "      <td>850</td>\n",
              "      <td>Spain</td>\n",
              "      <td>Female</td>\n",
              "      <td>43</td>\n",
              "      <td>2</td>\n",
              "      <td>125510.82</td>\n",
              "      <td>1</td>\n",
              "      <td>1</td>\n",
              "      <td>1</td>\n",
              "      <td>79084.10</td>\n",
              "      <td>0</td>\n",
              "    </tr>\n",
              "  </tbody>\n",
              "</table>\n",
              "</div>\n",
              "    <div class=\"colab-df-buttons\">\n",
              "\n",
              "  <div class=\"colab-df-container\">\n",
              "    <button class=\"colab-df-convert\" onclick=\"convertToInteractive('df-be920a64-8643-47df-8704-8bd34f52c0b5')\"\n",
              "            title=\"Convert this dataframe to an interactive table.\"\n",
              "            style=\"display:none;\">\n",
              "\n",
              "  <svg xmlns=\"http://www.w3.org/2000/svg\" height=\"24px\" viewBox=\"0 -960 960 960\">\n",
              "    <path d=\"M120-120v-720h720v720H120Zm60-500h600v-160H180v160Zm220 220h160v-160H400v160Zm0 220h160v-160H400v160ZM180-400h160v-160H180v160Zm440 0h160v-160H620v160ZM180-180h160v-160H180v160Zm440 0h160v-160H620v160Z\"/>\n",
              "  </svg>\n",
              "    </button>\n",
              "\n",
              "  <style>\n",
              "    .colab-df-container {\n",
              "      display:flex;\n",
              "      gap: 12px;\n",
              "    }\n",
              "\n",
              "    .colab-df-convert {\n",
              "      background-color: #E8F0FE;\n",
              "      border: none;\n",
              "      border-radius: 50%;\n",
              "      cursor: pointer;\n",
              "      display: none;\n",
              "      fill: #1967D2;\n",
              "      height: 32px;\n",
              "      padding: 0 0 0 0;\n",
              "      width: 32px;\n",
              "    }\n",
              "\n",
              "    .colab-df-convert:hover {\n",
              "      background-color: #E2EBFA;\n",
              "      box-shadow: 0px 1px 2px rgba(60, 64, 67, 0.3), 0px 1px 3px 1px rgba(60, 64, 67, 0.15);\n",
              "      fill: #174EA6;\n",
              "    }\n",
              "\n",
              "    .colab-df-buttons div {\n",
              "      margin-bottom: 4px;\n",
              "    }\n",
              "\n",
              "    [theme=dark] .colab-df-convert {\n",
              "      background-color: #3B4455;\n",
              "      fill: #D2E3FC;\n",
              "    }\n",
              "\n",
              "    [theme=dark] .colab-df-convert:hover {\n",
              "      background-color: #434B5C;\n",
              "      box-shadow: 0px 1px 3px 1px rgba(0, 0, 0, 0.15);\n",
              "      filter: drop-shadow(0px 1px 2px rgba(0, 0, 0, 0.3));\n",
              "      fill: #FFFFFF;\n",
              "    }\n",
              "  </style>\n",
              "\n",
              "    <script>\n",
              "      const buttonEl =\n",
              "        document.querySelector('#df-be920a64-8643-47df-8704-8bd34f52c0b5 button.colab-df-convert');\n",
              "      buttonEl.style.display =\n",
              "        google.colab.kernel.accessAllowed ? 'block' : 'none';\n",
              "\n",
              "      async function convertToInteractive(key) {\n",
              "        const element = document.querySelector('#df-be920a64-8643-47df-8704-8bd34f52c0b5');\n",
              "        const dataTable =\n",
              "          await google.colab.kernel.invokeFunction('convertToInteractive',\n",
              "                                                    [key], {});\n",
              "        if (!dataTable) return;\n",
              "\n",
              "        const docLinkHtml = 'Like what you see? Visit the ' +\n",
              "          '<a target=\"_blank\" href=https://colab.research.google.com/notebooks/data_table.ipynb>data table notebook</a>'\n",
              "          + ' to learn more about interactive tables.';\n",
              "        element.innerHTML = '';\n",
              "        dataTable['output_type'] = 'display_data';\n",
              "        await google.colab.output.renderOutput(dataTable, element);\n",
              "        const docLink = document.createElement('div');\n",
              "        docLink.innerHTML = docLinkHtml;\n",
              "        element.appendChild(docLink);\n",
              "      }\n",
              "    </script>\n",
              "  </div>\n",
              "\n",
              "\n",
              "<div id=\"df-e88de6f3-9df1-4aaa-9bd3-2513a406c042\">\n",
              "  <button class=\"colab-df-quickchart\" onclick=\"quickchart('df-e88de6f3-9df1-4aaa-9bd3-2513a406c042')\"\n",
              "            title=\"Suggest charts\"\n",
              "            style=\"display:none;\">\n",
              "\n",
              "<svg xmlns=\"http://www.w3.org/2000/svg\" height=\"24px\"viewBox=\"0 0 24 24\"\n",
              "     width=\"24px\">\n",
              "    <g>\n",
              "        <path d=\"M19 3H5c-1.1 0-2 .9-2 2v14c0 1.1.9 2 2 2h14c1.1 0 2-.9 2-2V5c0-1.1-.9-2-2-2zM9 17H7v-7h2v7zm4 0h-2V7h2v10zm4 0h-2v-4h2v4z\"/>\n",
              "    </g>\n",
              "</svg>\n",
              "  </button>\n",
              "\n",
              "<style>\n",
              "  .colab-df-quickchart {\n",
              "      --bg-color: #E8F0FE;\n",
              "      --fill-color: #1967D2;\n",
              "      --hover-bg-color: #E2EBFA;\n",
              "      --hover-fill-color: #174EA6;\n",
              "      --disabled-fill-color: #AAA;\n",
              "      --disabled-bg-color: #DDD;\n",
              "  }\n",
              "\n",
              "  [theme=dark] .colab-df-quickchart {\n",
              "      --bg-color: #3B4455;\n",
              "      --fill-color: #D2E3FC;\n",
              "      --hover-bg-color: #434B5C;\n",
              "      --hover-fill-color: #FFFFFF;\n",
              "      --disabled-bg-color: #3B4455;\n",
              "      --disabled-fill-color: #666;\n",
              "  }\n",
              "\n",
              "  .colab-df-quickchart {\n",
              "    background-color: var(--bg-color);\n",
              "    border: none;\n",
              "    border-radius: 50%;\n",
              "    cursor: pointer;\n",
              "    display: none;\n",
              "    fill: var(--fill-color);\n",
              "    height: 32px;\n",
              "    padding: 0;\n",
              "    width: 32px;\n",
              "  }\n",
              "\n",
              "  .colab-df-quickchart:hover {\n",
              "    background-color: var(--hover-bg-color);\n",
              "    box-shadow: 0 1px 2px rgba(60, 64, 67, 0.3), 0 1px 3px 1px rgba(60, 64, 67, 0.15);\n",
              "    fill: var(--button-hover-fill-color);\n",
              "  }\n",
              "\n",
              "  .colab-df-quickchart-complete:disabled,\n",
              "  .colab-df-quickchart-complete:disabled:hover {\n",
              "    background-color: var(--disabled-bg-color);\n",
              "    fill: var(--disabled-fill-color);\n",
              "    box-shadow: none;\n",
              "  }\n",
              "\n",
              "  .colab-df-spinner {\n",
              "    border: 2px solid var(--fill-color);\n",
              "    border-color: transparent;\n",
              "    border-bottom-color: var(--fill-color);\n",
              "    animation:\n",
              "      spin 1s steps(1) infinite;\n",
              "  }\n",
              "\n",
              "  @keyframes spin {\n",
              "    0% {\n",
              "      border-color: transparent;\n",
              "      border-bottom-color: var(--fill-color);\n",
              "      border-left-color: var(--fill-color);\n",
              "    }\n",
              "    20% {\n",
              "      border-color: transparent;\n",
              "      border-left-color: var(--fill-color);\n",
              "      border-top-color: var(--fill-color);\n",
              "    }\n",
              "    30% {\n",
              "      border-color: transparent;\n",
              "      border-left-color: var(--fill-color);\n",
              "      border-top-color: var(--fill-color);\n",
              "      border-right-color: var(--fill-color);\n",
              "    }\n",
              "    40% {\n",
              "      border-color: transparent;\n",
              "      border-right-color: var(--fill-color);\n",
              "      border-top-color: var(--fill-color);\n",
              "    }\n",
              "    60% {\n",
              "      border-color: transparent;\n",
              "      border-right-color: var(--fill-color);\n",
              "    }\n",
              "    80% {\n",
              "      border-color: transparent;\n",
              "      border-right-color: var(--fill-color);\n",
              "      border-bottom-color: var(--fill-color);\n",
              "    }\n",
              "    90% {\n",
              "      border-color: transparent;\n",
              "      border-bottom-color: var(--fill-color);\n",
              "    }\n",
              "  }\n",
              "</style>\n",
              "\n",
              "  <script>\n",
              "    async function quickchart(key) {\n",
              "      const quickchartButtonEl =\n",
              "        document.querySelector('#' + key + ' button');\n",
              "      quickchartButtonEl.disabled = true;  // To prevent multiple clicks.\n",
              "      quickchartButtonEl.classList.add('colab-df-spinner');\n",
              "      try {\n",
              "        const charts = await google.colab.kernel.invokeFunction(\n",
              "            'suggestCharts', [key], {});\n",
              "      } catch (error) {\n",
              "        console.error('Error during call to suggestCharts:', error);\n",
              "      }\n",
              "      quickchartButtonEl.classList.remove('colab-df-spinner');\n",
              "      quickchartButtonEl.classList.add('colab-df-quickchart-complete');\n",
              "    }\n",
              "    (() => {\n",
              "      let quickchartButtonEl =\n",
              "        document.querySelector('#df-e88de6f3-9df1-4aaa-9bd3-2513a406c042 button');\n",
              "      quickchartButtonEl.style.display =\n",
              "        google.colab.kernel.accessAllowed ? 'block' : 'none';\n",
              "    })();\n",
              "  </script>\n",
              "</div>\n",
              "    </div>\n",
              "  </div>\n"
            ]
          },
          "metadata": {},
          "execution_count": 8
        }
      ],
      "source": [
        "# Read the CSV file from the Resources folder into a Pandas DataFrame\n",
        "customer_data_df = pd.read_csv(\"/bank_customer_data.csv\")\n",
        "\n",
        "# Review the DataFrame\n",
        "customer_data_df.head()\n"
      ]
    },
    {
      "cell_type": "markdown",
      "metadata": {
        "id": "y2MOg15U1egU"
      },
      "source": [
        "### Step 2: Create the labels set (`y`)  from the “loan_status” column, and then create the features (`X`) DataFrame from the remaining columns."
      ]
    },
    {
      "cell_type": "code",
      "execution_count": 9,
      "metadata": {
        "id": "TRolcxA_1egU"
      },
      "outputs": [],
      "source": [
        "# Separate the data into labels and features\n",
        "\n",
        "# Separate the y variable, the labels\n",
        "y = customer_data_df['Exited']\n",
        "\n",
        "# Separate the raw X variable data, the features, and drop the labels/outcomes column as well as additional columns not useful in predicting outcomes\n",
        "X_raw_data = customer_data_df.copy()\n",
        "X_raw_data.drop(['Exited','Surname','CustomerId','RowNumber'], axis=1, inplace=True)\n"
      ]
    },
    {
      "cell_type": "code",
      "execution_count": 10,
      "metadata": {
        "id": "Ct5w4dHF1egU"
      },
      "outputs": [],
      "source": [
        "# Convert/encode columns with categorical feature values into numerical values, save results as final 'X' feature DataFrame\n",
        "X_encoded = pd.get_dummies(X_raw_data, dtype=int)\n",
        "\n",
        "X = X_encoded\n"
      ]
    },
    {
      "cell_type": "code",
      "execution_count": 11,
      "metadata": {
        "colab": {
          "base_uri": "https://localhost:8080/"
        },
        "id": "9rTBrxGI1egU",
        "outputId": "46a38d48-9e62-4d2f-8503-ac7a1371f512"
      },
      "outputs": [
        {
          "output_type": "stream",
          "name": "stdout",
          "text": [
            "0    1\n",
            "1    0\n",
            "2    1\n",
            "3    0\n",
            "4    0\n",
            "Name: Exited, dtype: int64\n"
          ]
        }
      ],
      "source": [
        "# Review the y variable Series\n",
        "print(y[:5])\n"
      ]
    },
    {
      "cell_type": "code",
      "execution_count": 12,
      "metadata": {
        "colab": {
          "base_uri": "https://localhost:8080/",
          "height": 383
        },
        "id": "UC5oZFjY1egV",
        "outputId": "f799fc6e-896f-441e-a6e1-bea18ba7a13a"
      },
      "outputs": [
        {
          "output_type": "execute_result",
          "data": {
            "text/plain": [
              "   CreditScore  Age  Tenure    Balance  NumOfProducts  HasCrCard  \\\n",
              "0          619   42       2       0.00              1          1   \n",
              "1          608   41       1   83807.86              1          0   \n",
              "2          502   42       8  159660.80              3          1   \n",
              "3          699   39       1       0.00              2          0   \n",
              "4          850   43       2  125510.82              1          1   \n",
              "5          645   44       8  113755.78              2          1   \n",
              "6          822   50       7       0.00              2          1   \n",
              "7          376   29       4  115046.74              4          1   \n",
              "8          501   44       4  142051.07              2          0   \n",
              "9          684   27       2  134603.88              1          1   \n",
              "\n",
              "   IsActiveMember  EstimatedSalary  Geography_France  Geography_Germany  \\\n",
              "0               1        101348.88                 1                  0   \n",
              "1               1        112542.58                 0                  0   \n",
              "2               0        113931.57                 1                  0   \n",
              "3               0         93826.63                 1                  0   \n",
              "4               1         79084.10                 0                  0   \n",
              "5               0        149756.71                 0                  0   \n",
              "6               1         10062.80                 1                  0   \n",
              "7               0        119346.88                 0                  1   \n",
              "8               1         74940.50                 1                  0   \n",
              "9               1         71725.73                 1                  0   \n",
              "\n",
              "   Geography_Spain  Gender_Female  Gender_Male  \n",
              "0                0              1            0  \n",
              "1                1              1            0  \n",
              "2                0              1            0  \n",
              "3                0              1            0  \n",
              "4                1              1            0  \n",
              "5                1              0            1  \n",
              "6                0              0            1  \n",
              "7                0              1            0  \n",
              "8                0              0            1  \n",
              "9                0              0            1  "
            ],
            "text/html": [
              "\n",
              "  <div id=\"df-57334633-36aa-42b3-b007-63e1844fbb6f\" class=\"colab-df-container\">\n",
              "    <div>\n",
              "<style scoped>\n",
              "    .dataframe tbody tr th:only-of-type {\n",
              "        vertical-align: middle;\n",
              "    }\n",
              "\n",
              "    .dataframe tbody tr th {\n",
              "        vertical-align: top;\n",
              "    }\n",
              "\n",
              "    .dataframe thead th {\n",
              "        text-align: right;\n",
              "    }\n",
              "</style>\n",
              "<table border=\"1\" class=\"dataframe\">\n",
              "  <thead>\n",
              "    <tr style=\"text-align: right;\">\n",
              "      <th></th>\n",
              "      <th>CreditScore</th>\n",
              "      <th>Age</th>\n",
              "      <th>Tenure</th>\n",
              "      <th>Balance</th>\n",
              "      <th>NumOfProducts</th>\n",
              "      <th>HasCrCard</th>\n",
              "      <th>IsActiveMember</th>\n",
              "      <th>EstimatedSalary</th>\n",
              "      <th>Geography_France</th>\n",
              "      <th>Geography_Germany</th>\n",
              "      <th>Geography_Spain</th>\n",
              "      <th>Gender_Female</th>\n",
              "      <th>Gender_Male</th>\n",
              "    </tr>\n",
              "  </thead>\n",
              "  <tbody>\n",
              "    <tr>\n",
              "      <th>0</th>\n",
              "      <td>619</td>\n",
              "      <td>42</td>\n",
              "      <td>2</td>\n",
              "      <td>0.00</td>\n",
              "      <td>1</td>\n",
              "      <td>1</td>\n",
              "      <td>1</td>\n",
              "      <td>101348.88</td>\n",
              "      <td>1</td>\n",
              "      <td>0</td>\n",
              "      <td>0</td>\n",
              "      <td>1</td>\n",
              "      <td>0</td>\n",
              "    </tr>\n",
              "    <tr>\n",
              "      <th>1</th>\n",
              "      <td>608</td>\n",
              "      <td>41</td>\n",
              "      <td>1</td>\n",
              "      <td>83807.86</td>\n",
              "      <td>1</td>\n",
              "      <td>0</td>\n",
              "      <td>1</td>\n",
              "      <td>112542.58</td>\n",
              "      <td>0</td>\n",
              "      <td>0</td>\n",
              "      <td>1</td>\n",
              "      <td>1</td>\n",
              "      <td>0</td>\n",
              "    </tr>\n",
              "    <tr>\n",
              "      <th>2</th>\n",
              "      <td>502</td>\n",
              "      <td>42</td>\n",
              "      <td>8</td>\n",
              "      <td>159660.80</td>\n",
              "      <td>3</td>\n",
              "      <td>1</td>\n",
              "      <td>0</td>\n",
              "      <td>113931.57</td>\n",
              "      <td>1</td>\n",
              "      <td>0</td>\n",
              "      <td>0</td>\n",
              "      <td>1</td>\n",
              "      <td>0</td>\n",
              "    </tr>\n",
              "    <tr>\n",
              "      <th>3</th>\n",
              "      <td>699</td>\n",
              "      <td>39</td>\n",
              "      <td>1</td>\n",
              "      <td>0.00</td>\n",
              "      <td>2</td>\n",
              "      <td>0</td>\n",
              "      <td>0</td>\n",
              "      <td>93826.63</td>\n",
              "      <td>1</td>\n",
              "      <td>0</td>\n",
              "      <td>0</td>\n",
              "      <td>1</td>\n",
              "      <td>0</td>\n",
              "    </tr>\n",
              "    <tr>\n",
              "      <th>4</th>\n",
              "      <td>850</td>\n",
              "      <td>43</td>\n",
              "      <td>2</td>\n",
              "      <td>125510.82</td>\n",
              "      <td>1</td>\n",
              "      <td>1</td>\n",
              "      <td>1</td>\n",
              "      <td>79084.10</td>\n",
              "      <td>0</td>\n",
              "      <td>0</td>\n",
              "      <td>1</td>\n",
              "      <td>1</td>\n",
              "      <td>0</td>\n",
              "    </tr>\n",
              "    <tr>\n",
              "      <th>5</th>\n",
              "      <td>645</td>\n",
              "      <td>44</td>\n",
              "      <td>8</td>\n",
              "      <td>113755.78</td>\n",
              "      <td>2</td>\n",
              "      <td>1</td>\n",
              "      <td>0</td>\n",
              "      <td>149756.71</td>\n",
              "      <td>0</td>\n",
              "      <td>0</td>\n",
              "      <td>1</td>\n",
              "      <td>0</td>\n",
              "      <td>1</td>\n",
              "    </tr>\n",
              "    <tr>\n",
              "      <th>6</th>\n",
              "      <td>822</td>\n",
              "      <td>50</td>\n",
              "      <td>7</td>\n",
              "      <td>0.00</td>\n",
              "      <td>2</td>\n",
              "      <td>1</td>\n",
              "      <td>1</td>\n",
              "      <td>10062.80</td>\n",
              "      <td>1</td>\n",
              "      <td>0</td>\n",
              "      <td>0</td>\n",
              "      <td>0</td>\n",
              "      <td>1</td>\n",
              "    </tr>\n",
              "    <tr>\n",
              "      <th>7</th>\n",
              "      <td>376</td>\n",
              "      <td>29</td>\n",
              "      <td>4</td>\n",
              "      <td>115046.74</td>\n",
              "      <td>4</td>\n",
              "      <td>1</td>\n",
              "      <td>0</td>\n",
              "      <td>119346.88</td>\n",
              "      <td>0</td>\n",
              "      <td>1</td>\n",
              "      <td>0</td>\n",
              "      <td>1</td>\n",
              "      <td>0</td>\n",
              "    </tr>\n",
              "    <tr>\n",
              "      <th>8</th>\n",
              "      <td>501</td>\n",
              "      <td>44</td>\n",
              "      <td>4</td>\n",
              "      <td>142051.07</td>\n",
              "      <td>2</td>\n",
              "      <td>0</td>\n",
              "      <td>1</td>\n",
              "      <td>74940.50</td>\n",
              "      <td>1</td>\n",
              "      <td>0</td>\n",
              "      <td>0</td>\n",
              "      <td>0</td>\n",
              "      <td>1</td>\n",
              "    </tr>\n",
              "    <tr>\n",
              "      <th>9</th>\n",
              "      <td>684</td>\n",
              "      <td>27</td>\n",
              "      <td>2</td>\n",
              "      <td>134603.88</td>\n",
              "      <td>1</td>\n",
              "      <td>1</td>\n",
              "      <td>1</td>\n",
              "      <td>71725.73</td>\n",
              "      <td>1</td>\n",
              "      <td>0</td>\n",
              "      <td>0</td>\n",
              "      <td>0</td>\n",
              "      <td>1</td>\n",
              "    </tr>\n",
              "  </tbody>\n",
              "</table>\n",
              "</div>\n",
              "    <div class=\"colab-df-buttons\">\n",
              "\n",
              "  <div class=\"colab-df-container\">\n",
              "    <button class=\"colab-df-convert\" onclick=\"convertToInteractive('df-57334633-36aa-42b3-b007-63e1844fbb6f')\"\n",
              "            title=\"Convert this dataframe to an interactive table.\"\n",
              "            style=\"display:none;\">\n",
              "\n",
              "  <svg xmlns=\"http://www.w3.org/2000/svg\" height=\"24px\" viewBox=\"0 -960 960 960\">\n",
              "    <path d=\"M120-120v-720h720v720H120Zm60-500h600v-160H180v160Zm220 220h160v-160H400v160Zm0 220h160v-160H400v160ZM180-400h160v-160H180v160Zm440 0h160v-160H620v160ZM180-180h160v-160H180v160Zm440 0h160v-160H620v160Z\"/>\n",
              "  </svg>\n",
              "    </button>\n",
              "\n",
              "  <style>\n",
              "    .colab-df-container {\n",
              "      display:flex;\n",
              "      gap: 12px;\n",
              "    }\n",
              "\n",
              "    .colab-df-convert {\n",
              "      background-color: #E8F0FE;\n",
              "      border: none;\n",
              "      border-radius: 50%;\n",
              "      cursor: pointer;\n",
              "      display: none;\n",
              "      fill: #1967D2;\n",
              "      height: 32px;\n",
              "      padding: 0 0 0 0;\n",
              "      width: 32px;\n",
              "    }\n",
              "\n",
              "    .colab-df-convert:hover {\n",
              "      background-color: #E2EBFA;\n",
              "      box-shadow: 0px 1px 2px rgba(60, 64, 67, 0.3), 0px 1px 3px 1px rgba(60, 64, 67, 0.15);\n",
              "      fill: #174EA6;\n",
              "    }\n",
              "\n",
              "    .colab-df-buttons div {\n",
              "      margin-bottom: 4px;\n",
              "    }\n",
              "\n",
              "    [theme=dark] .colab-df-convert {\n",
              "      background-color: #3B4455;\n",
              "      fill: #D2E3FC;\n",
              "    }\n",
              "\n",
              "    [theme=dark] .colab-df-convert:hover {\n",
              "      background-color: #434B5C;\n",
              "      box-shadow: 0px 1px 3px 1px rgba(0, 0, 0, 0.15);\n",
              "      filter: drop-shadow(0px 1px 2px rgba(0, 0, 0, 0.3));\n",
              "      fill: #FFFFFF;\n",
              "    }\n",
              "  </style>\n",
              "\n",
              "    <script>\n",
              "      const buttonEl =\n",
              "        document.querySelector('#df-57334633-36aa-42b3-b007-63e1844fbb6f button.colab-df-convert');\n",
              "      buttonEl.style.display =\n",
              "        google.colab.kernel.accessAllowed ? 'block' : 'none';\n",
              "\n",
              "      async function convertToInteractive(key) {\n",
              "        const element = document.querySelector('#df-57334633-36aa-42b3-b007-63e1844fbb6f');\n",
              "        const dataTable =\n",
              "          await google.colab.kernel.invokeFunction('convertToInteractive',\n",
              "                                                    [key], {});\n",
              "        if (!dataTable) return;\n",
              "\n",
              "        const docLinkHtml = 'Like what you see? Visit the ' +\n",
              "          '<a target=\"_blank\" href=https://colab.research.google.com/notebooks/data_table.ipynb>data table notebook</a>'\n",
              "          + ' to learn more about interactive tables.';\n",
              "        element.innerHTML = '';\n",
              "        dataTable['output_type'] = 'display_data';\n",
              "        await google.colab.output.renderOutput(dataTable, element);\n",
              "        const docLink = document.createElement('div');\n",
              "        docLink.innerHTML = docLinkHtml;\n",
              "        element.appendChild(docLink);\n",
              "      }\n",
              "    </script>\n",
              "  </div>\n",
              "\n",
              "\n",
              "<div id=\"df-28b00042-0fbc-4542-8824-1bbe7478eb4b\">\n",
              "  <button class=\"colab-df-quickchart\" onclick=\"quickchart('df-28b00042-0fbc-4542-8824-1bbe7478eb4b')\"\n",
              "            title=\"Suggest charts\"\n",
              "            style=\"display:none;\">\n",
              "\n",
              "<svg xmlns=\"http://www.w3.org/2000/svg\" height=\"24px\"viewBox=\"0 0 24 24\"\n",
              "     width=\"24px\">\n",
              "    <g>\n",
              "        <path d=\"M19 3H5c-1.1 0-2 .9-2 2v14c0 1.1.9 2 2 2h14c1.1 0 2-.9 2-2V5c0-1.1-.9-2-2-2zM9 17H7v-7h2v7zm4 0h-2V7h2v10zm4 0h-2v-4h2v4z\"/>\n",
              "    </g>\n",
              "</svg>\n",
              "  </button>\n",
              "\n",
              "<style>\n",
              "  .colab-df-quickchart {\n",
              "      --bg-color: #E8F0FE;\n",
              "      --fill-color: #1967D2;\n",
              "      --hover-bg-color: #E2EBFA;\n",
              "      --hover-fill-color: #174EA6;\n",
              "      --disabled-fill-color: #AAA;\n",
              "      --disabled-bg-color: #DDD;\n",
              "  }\n",
              "\n",
              "  [theme=dark] .colab-df-quickchart {\n",
              "      --bg-color: #3B4455;\n",
              "      --fill-color: #D2E3FC;\n",
              "      --hover-bg-color: #434B5C;\n",
              "      --hover-fill-color: #FFFFFF;\n",
              "      --disabled-bg-color: #3B4455;\n",
              "      --disabled-fill-color: #666;\n",
              "  }\n",
              "\n",
              "  .colab-df-quickchart {\n",
              "    background-color: var(--bg-color);\n",
              "    border: none;\n",
              "    border-radius: 50%;\n",
              "    cursor: pointer;\n",
              "    display: none;\n",
              "    fill: var(--fill-color);\n",
              "    height: 32px;\n",
              "    padding: 0;\n",
              "    width: 32px;\n",
              "  }\n",
              "\n",
              "  .colab-df-quickchart:hover {\n",
              "    background-color: var(--hover-bg-color);\n",
              "    box-shadow: 0 1px 2px rgba(60, 64, 67, 0.3), 0 1px 3px 1px rgba(60, 64, 67, 0.15);\n",
              "    fill: var(--button-hover-fill-color);\n",
              "  }\n",
              "\n",
              "  .colab-df-quickchart-complete:disabled,\n",
              "  .colab-df-quickchart-complete:disabled:hover {\n",
              "    background-color: var(--disabled-bg-color);\n",
              "    fill: var(--disabled-fill-color);\n",
              "    box-shadow: none;\n",
              "  }\n",
              "\n",
              "  .colab-df-spinner {\n",
              "    border: 2px solid var(--fill-color);\n",
              "    border-color: transparent;\n",
              "    border-bottom-color: var(--fill-color);\n",
              "    animation:\n",
              "      spin 1s steps(1) infinite;\n",
              "  }\n",
              "\n",
              "  @keyframes spin {\n",
              "    0% {\n",
              "      border-color: transparent;\n",
              "      border-bottom-color: var(--fill-color);\n",
              "      border-left-color: var(--fill-color);\n",
              "    }\n",
              "    20% {\n",
              "      border-color: transparent;\n",
              "      border-left-color: var(--fill-color);\n",
              "      border-top-color: var(--fill-color);\n",
              "    }\n",
              "    30% {\n",
              "      border-color: transparent;\n",
              "      border-left-color: var(--fill-color);\n",
              "      border-top-color: var(--fill-color);\n",
              "      border-right-color: var(--fill-color);\n",
              "    }\n",
              "    40% {\n",
              "      border-color: transparent;\n",
              "      border-right-color: var(--fill-color);\n",
              "      border-top-color: var(--fill-color);\n",
              "    }\n",
              "    60% {\n",
              "      border-color: transparent;\n",
              "      border-right-color: var(--fill-color);\n",
              "    }\n",
              "    80% {\n",
              "      border-color: transparent;\n",
              "      border-right-color: var(--fill-color);\n",
              "      border-bottom-color: var(--fill-color);\n",
              "    }\n",
              "    90% {\n",
              "      border-color: transparent;\n",
              "      border-bottom-color: var(--fill-color);\n",
              "    }\n",
              "  }\n",
              "</style>\n",
              "\n",
              "  <script>\n",
              "    async function quickchart(key) {\n",
              "      const quickchartButtonEl =\n",
              "        document.querySelector('#' + key + ' button');\n",
              "      quickchartButtonEl.disabled = true;  // To prevent multiple clicks.\n",
              "      quickchartButtonEl.classList.add('colab-df-spinner');\n",
              "      try {\n",
              "        const charts = await google.colab.kernel.invokeFunction(\n",
              "            'suggestCharts', [key], {});\n",
              "      } catch (error) {\n",
              "        console.error('Error during call to suggestCharts:', error);\n",
              "      }\n",
              "      quickchartButtonEl.classList.remove('colab-df-spinner');\n",
              "      quickchartButtonEl.classList.add('colab-df-quickchart-complete');\n",
              "    }\n",
              "    (() => {\n",
              "      let quickchartButtonEl =\n",
              "        document.querySelector('#df-28b00042-0fbc-4542-8824-1bbe7478eb4b button');\n",
              "      quickchartButtonEl.style.display =\n",
              "        google.colab.kernel.accessAllowed ? 'block' : 'none';\n",
              "    })();\n",
              "  </script>\n",
              "</div>\n",
              "    </div>\n",
              "  </div>\n"
            ]
          },
          "metadata": {},
          "execution_count": 12
        }
      ],
      "source": [
        "# Review the X variable DataFrame\n",
        "X.head(10)\n"
      ]
    },
    {
      "cell_type": "markdown",
      "metadata": {
        "id": "uM8TrpqR1egV"
      },
      "source": [
        "### Step 3: Check the balance of the labels variable (`y`) by using the `value_counts` function."
      ]
    },
    {
      "cell_type": "code",
      "execution_count": 13,
      "metadata": {
        "colab": {
          "base_uri": "https://localhost:8080/"
        },
        "id": "Aqd-vNuW1egV",
        "outputId": "abd3a103-4156-43fc-8dae-3a4ed9170d37"
      },
      "outputs": [
        {
          "output_type": "execute_result",
          "data": {
            "text/plain": [
              "0    7963\n",
              "1    2037\n",
              "Name: Exited, dtype: int64"
            ]
          },
          "metadata": {},
          "execution_count": 13
        }
      ],
      "source": [
        "# Check the balance of our target values\n",
        "y.value_counts()\n"
      ]
    },
    {
      "cell_type": "markdown",
      "metadata": {
        "id": "MD8xyYpT1egV"
      },
      "source": [
        "### Step 4: Split the data into training and testing datasets by using `train_test_split`."
      ]
    },
    {
      "cell_type": "code",
      "execution_count": 14,
      "metadata": {
        "id": "pu306Qnp1egV"
      },
      "outputs": [],
      "source": [
        "# Split the data using train_test_split\n",
        "# Assign a random_state of 1 to the function\n",
        "X_train, X_test, y_train, y_test = train_test_split(X, y, random_state=1)"
      ]
    },
    {
      "cell_type": "markdown",
      "metadata": {
        "id": "o8vwgvBG1egV"
      },
      "source": [
        "---"
      ]
    },
    {
      "cell_type": "markdown",
      "metadata": {
        "id": "V9R8LzLW1egV"
      },
      "source": [
        "## 1: ORIGINAL DATA Create a Logistic Regression Model with the Original Data"
      ]
    },
    {
      "cell_type": "markdown",
      "metadata": {
        "id": "kiTHnct01egV"
      },
      "source": [
        "###  Step 1: Fit a logistic regression model by using the training data (`X_train` and `y_train`)."
      ]
    },
    {
      "cell_type": "code",
      "execution_count": 15,
      "metadata": {
        "id": "C3Ys9uH31egV"
      },
      "outputs": [],
      "source": [
        "# Define training and testing data sets for this first version of the model and label with '1'\n",
        "\n",
        "X_train1 = X_train\n",
        "X_test1 = X_test\n",
        "y_train1 = y_train\n",
        "y_test1 = y_test\n"
      ]
    },
    {
      "cell_type": "code",
      "execution_count": 16,
      "metadata": {
        "colab": {
          "base_uri": "https://localhost:8080/",
          "height": 75
        },
        "id": "fdZVaBvG1egV",
        "outputId": "7eff2516-2ce1-4673-e2ce-85af940ccd58"
      },
      "outputs": [
        {
          "output_type": "execute_result",
          "data": {
            "text/plain": [
              "LogisticRegression(random_state=1)"
            ],
            "text/html": [
              "<style>#sk-container-id-1 {color: black;background-color: white;}#sk-container-id-1 pre{padding: 0;}#sk-container-id-1 div.sk-toggleable {background-color: white;}#sk-container-id-1 label.sk-toggleable__label {cursor: pointer;display: block;width: 100%;margin-bottom: 0;padding: 0.3em;box-sizing: border-box;text-align: center;}#sk-container-id-1 label.sk-toggleable__label-arrow:before {content: \"▸\";float: left;margin-right: 0.25em;color: #696969;}#sk-container-id-1 label.sk-toggleable__label-arrow:hover:before {color: black;}#sk-container-id-1 div.sk-estimator:hover label.sk-toggleable__label-arrow:before {color: black;}#sk-container-id-1 div.sk-toggleable__content {max-height: 0;max-width: 0;overflow: hidden;text-align: left;background-color: #f0f8ff;}#sk-container-id-1 div.sk-toggleable__content pre {margin: 0.2em;color: black;border-radius: 0.25em;background-color: #f0f8ff;}#sk-container-id-1 input.sk-toggleable__control:checked~div.sk-toggleable__content {max-height: 200px;max-width: 100%;overflow: auto;}#sk-container-id-1 input.sk-toggleable__control:checked~label.sk-toggleable__label-arrow:before {content: \"▾\";}#sk-container-id-1 div.sk-estimator input.sk-toggleable__control:checked~label.sk-toggleable__label {background-color: #d4ebff;}#sk-container-id-1 div.sk-label input.sk-toggleable__control:checked~label.sk-toggleable__label {background-color: #d4ebff;}#sk-container-id-1 input.sk-hidden--visually {border: 0;clip: rect(1px 1px 1px 1px);clip: rect(1px, 1px, 1px, 1px);height: 1px;margin: -1px;overflow: hidden;padding: 0;position: absolute;width: 1px;}#sk-container-id-1 div.sk-estimator {font-family: monospace;background-color: #f0f8ff;border: 1px dotted black;border-radius: 0.25em;box-sizing: border-box;margin-bottom: 0.5em;}#sk-container-id-1 div.sk-estimator:hover {background-color: #d4ebff;}#sk-container-id-1 div.sk-parallel-item::after {content: \"\";width: 100%;border-bottom: 1px solid gray;flex-grow: 1;}#sk-container-id-1 div.sk-label:hover label.sk-toggleable__label {background-color: #d4ebff;}#sk-container-id-1 div.sk-serial::before {content: \"\";position: absolute;border-left: 1px solid gray;box-sizing: border-box;top: 0;bottom: 0;left: 50%;z-index: 0;}#sk-container-id-1 div.sk-serial {display: flex;flex-direction: column;align-items: center;background-color: white;padding-right: 0.2em;padding-left: 0.2em;position: relative;}#sk-container-id-1 div.sk-item {position: relative;z-index: 1;}#sk-container-id-1 div.sk-parallel {display: flex;align-items: stretch;justify-content: center;background-color: white;position: relative;}#sk-container-id-1 div.sk-item::before, #sk-container-id-1 div.sk-parallel-item::before {content: \"\";position: absolute;border-left: 1px solid gray;box-sizing: border-box;top: 0;bottom: 0;left: 50%;z-index: -1;}#sk-container-id-1 div.sk-parallel-item {display: flex;flex-direction: column;z-index: 1;position: relative;background-color: white;}#sk-container-id-1 div.sk-parallel-item:first-child::after {align-self: flex-end;width: 50%;}#sk-container-id-1 div.sk-parallel-item:last-child::after {align-self: flex-start;width: 50%;}#sk-container-id-1 div.sk-parallel-item:only-child::after {width: 0;}#sk-container-id-1 div.sk-dashed-wrapped {border: 1px dashed gray;margin: 0 0.4em 0.5em 0.4em;box-sizing: border-box;padding-bottom: 0.4em;background-color: white;}#sk-container-id-1 div.sk-label label {font-family: monospace;font-weight: bold;display: inline-block;line-height: 1.2em;}#sk-container-id-1 div.sk-label-container {text-align: center;}#sk-container-id-1 div.sk-container {/* jupyter's `normalize.less` sets `[hidden] { display: none; }` but bootstrap.min.css set `[hidden] { display: none !important; }` so we also need the `!important` here to be able to override the default hidden behavior on the sphinx rendered scikit-learn.org. See: https://github.com/scikit-learn/scikit-learn/issues/21755 */display: inline-block !important;position: relative;}#sk-container-id-1 div.sk-text-repr-fallback {display: none;}</style><div id=\"sk-container-id-1\" class=\"sk-top-container\"><div class=\"sk-text-repr-fallback\"><pre>LogisticRegression(random_state=1)</pre><b>In a Jupyter environment, please rerun this cell to show the HTML representation or trust the notebook. <br />On GitHub, the HTML representation is unable to render, please try loading this page with nbviewer.org.</b></div><div class=\"sk-container\" hidden><div class=\"sk-item\"><div class=\"sk-estimator sk-toggleable\"><input class=\"sk-toggleable__control sk-hidden--visually\" id=\"sk-estimator-id-1\" type=\"checkbox\" checked><label for=\"sk-estimator-id-1\" class=\"sk-toggleable__label sk-toggleable__label-arrow\">LogisticRegression</label><div class=\"sk-toggleable__content\"><pre>LogisticRegression(random_state=1)</pre></div></div></div></div></div>"
            ]
          },
          "metadata": {},
          "execution_count": 16
        }
      ],
      "source": [
        "# Instantiate the Logistic Regression model with a random_state parameter of 1, labeled with '1' for this first version of the model\n",
        "classifier1 = LogisticRegression(solver='lbfgs', random_state=1)\n",
        "\n",
        "# Fit the model using training data\n",
        "classifier1.fit(X_train1, y_train1)\n"
      ]
    },
    {
      "cell_type": "markdown",
      "metadata": {
        "id": "kqDZdzd21egV"
      },
      "source": [
        "### Step 2: Save the predictions on the testing data labels by using the testing feature data (`X_test`) and the fitted model."
      ]
    },
    {
      "cell_type": "code",
      "execution_count": 17,
      "metadata": {
        "colab": {
          "base_uri": "https://localhost:8080/",
          "height": 363
        },
        "id": "xk8rNpLG1egV",
        "outputId": "2caeedd9-c9f2-49de-fcf4-751d58851c4e"
      },
      "outputs": [
        {
          "output_type": "execute_result",
          "data": {
            "text/plain": [
              "      Prediction  Actual\n",
              "9953           0       0\n",
              "3850           0       0\n",
              "4962           0       0\n",
              "3886           0       0\n",
              "5437           0       0\n",
              "8517           0       0\n",
              "2041           0       0\n",
              "1989           0       0\n",
              "1933           1       0\n",
              "9984           0       0"
            ],
            "text/html": [
              "\n",
              "  <div id=\"df-d95697e2-8c5e-48d2-bf32-4ba6439b8114\" class=\"colab-df-container\">\n",
              "    <div>\n",
              "<style scoped>\n",
              "    .dataframe tbody tr th:only-of-type {\n",
              "        vertical-align: middle;\n",
              "    }\n",
              "\n",
              "    .dataframe tbody tr th {\n",
              "        vertical-align: top;\n",
              "    }\n",
              "\n",
              "    .dataframe thead th {\n",
              "        text-align: right;\n",
              "    }\n",
              "</style>\n",
              "<table border=\"1\" class=\"dataframe\">\n",
              "  <thead>\n",
              "    <tr style=\"text-align: right;\">\n",
              "      <th></th>\n",
              "      <th>Prediction</th>\n",
              "      <th>Actual</th>\n",
              "    </tr>\n",
              "  </thead>\n",
              "  <tbody>\n",
              "    <tr>\n",
              "      <th>9953</th>\n",
              "      <td>0</td>\n",
              "      <td>0</td>\n",
              "    </tr>\n",
              "    <tr>\n",
              "      <th>3850</th>\n",
              "      <td>0</td>\n",
              "      <td>0</td>\n",
              "    </tr>\n",
              "    <tr>\n",
              "      <th>4962</th>\n",
              "      <td>0</td>\n",
              "      <td>0</td>\n",
              "    </tr>\n",
              "    <tr>\n",
              "      <th>3886</th>\n",
              "      <td>0</td>\n",
              "      <td>0</td>\n",
              "    </tr>\n",
              "    <tr>\n",
              "      <th>5437</th>\n",
              "      <td>0</td>\n",
              "      <td>0</td>\n",
              "    </tr>\n",
              "    <tr>\n",
              "      <th>8517</th>\n",
              "      <td>0</td>\n",
              "      <td>0</td>\n",
              "    </tr>\n",
              "    <tr>\n",
              "      <th>2041</th>\n",
              "      <td>0</td>\n",
              "      <td>0</td>\n",
              "    </tr>\n",
              "    <tr>\n",
              "      <th>1989</th>\n",
              "      <td>0</td>\n",
              "      <td>0</td>\n",
              "    </tr>\n",
              "    <tr>\n",
              "      <th>1933</th>\n",
              "      <td>1</td>\n",
              "      <td>0</td>\n",
              "    </tr>\n",
              "    <tr>\n",
              "      <th>9984</th>\n",
              "      <td>0</td>\n",
              "      <td>0</td>\n",
              "    </tr>\n",
              "  </tbody>\n",
              "</table>\n",
              "</div>\n",
              "    <div class=\"colab-df-buttons\">\n",
              "\n",
              "  <div class=\"colab-df-container\">\n",
              "    <button class=\"colab-df-convert\" onclick=\"convertToInteractive('df-d95697e2-8c5e-48d2-bf32-4ba6439b8114')\"\n",
              "            title=\"Convert this dataframe to an interactive table.\"\n",
              "            style=\"display:none;\">\n",
              "\n",
              "  <svg xmlns=\"http://www.w3.org/2000/svg\" height=\"24px\" viewBox=\"0 -960 960 960\">\n",
              "    <path d=\"M120-120v-720h720v720H120Zm60-500h600v-160H180v160Zm220 220h160v-160H400v160Zm0 220h160v-160H400v160ZM180-400h160v-160H180v160Zm440 0h160v-160H620v160ZM180-180h160v-160H180v160Zm440 0h160v-160H620v160Z\"/>\n",
              "  </svg>\n",
              "    </button>\n",
              "\n",
              "  <style>\n",
              "    .colab-df-container {\n",
              "      display:flex;\n",
              "      gap: 12px;\n",
              "    }\n",
              "\n",
              "    .colab-df-convert {\n",
              "      background-color: #E8F0FE;\n",
              "      border: none;\n",
              "      border-radius: 50%;\n",
              "      cursor: pointer;\n",
              "      display: none;\n",
              "      fill: #1967D2;\n",
              "      height: 32px;\n",
              "      padding: 0 0 0 0;\n",
              "      width: 32px;\n",
              "    }\n",
              "\n",
              "    .colab-df-convert:hover {\n",
              "      background-color: #E2EBFA;\n",
              "      box-shadow: 0px 1px 2px rgba(60, 64, 67, 0.3), 0px 1px 3px 1px rgba(60, 64, 67, 0.15);\n",
              "      fill: #174EA6;\n",
              "    }\n",
              "\n",
              "    .colab-df-buttons div {\n",
              "      margin-bottom: 4px;\n",
              "    }\n",
              "\n",
              "    [theme=dark] .colab-df-convert {\n",
              "      background-color: #3B4455;\n",
              "      fill: #D2E3FC;\n",
              "    }\n",
              "\n",
              "    [theme=dark] .colab-df-convert:hover {\n",
              "      background-color: #434B5C;\n",
              "      box-shadow: 0px 1px 3px 1px rgba(0, 0, 0, 0.15);\n",
              "      filter: drop-shadow(0px 1px 2px rgba(0, 0, 0, 0.3));\n",
              "      fill: #FFFFFF;\n",
              "    }\n",
              "  </style>\n",
              "\n",
              "    <script>\n",
              "      const buttonEl =\n",
              "        document.querySelector('#df-d95697e2-8c5e-48d2-bf32-4ba6439b8114 button.colab-df-convert');\n",
              "      buttonEl.style.display =\n",
              "        google.colab.kernel.accessAllowed ? 'block' : 'none';\n",
              "\n",
              "      async function convertToInteractive(key) {\n",
              "        const element = document.querySelector('#df-d95697e2-8c5e-48d2-bf32-4ba6439b8114');\n",
              "        const dataTable =\n",
              "          await google.colab.kernel.invokeFunction('convertToInteractive',\n",
              "                                                    [key], {});\n",
              "        if (!dataTable) return;\n",
              "\n",
              "        const docLinkHtml = 'Like what you see? Visit the ' +\n",
              "          '<a target=\"_blank\" href=https://colab.research.google.com/notebooks/data_table.ipynb>data table notebook</a>'\n",
              "          + ' to learn more about interactive tables.';\n",
              "        element.innerHTML = '';\n",
              "        dataTable['output_type'] = 'display_data';\n",
              "        await google.colab.output.renderOutput(dataTable, element);\n",
              "        const docLink = document.createElement('div');\n",
              "        docLink.innerHTML = docLinkHtml;\n",
              "        element.appendChild(docLink);\n",
              "      }\n",
              "    </script>\n",
              "  </div>\n",
              "\n",
              "\n",
              "<div id=\"df-e7d86b30-8ff9-4233-8f20-22559d8e3d83\">\n",
              "  <button class=\"colab-df-quickchart\" onclick=\"quickchart('df-e7d86b30-8ff9-4233-8f20-22559d8e3d83')\"\n",
              "            title=\"Suggest charts\"\n",
              "            style=\"display:none;\">\n",
              "\n",
              "<svg xmlns=\"http://www.w3.org/2000/svg\" height=\"24px\"viewBox=\"0 0 24 24\"\n",
              "     width=\"24px\">\n",
              "    <g>\n",
              "        <path d=\"M19 3H5c-1.1 0-2 .9-2 2v14c0 1.1.9 2 2 2h14c1.1 0 2-.9 2-2V5c0-1.1-.9-2-2-2zM9 17H7v-7h2v7zm4 0h-2V7h2v10zm4 0h-2v-4h2v4z\"/>\n",
              "    </g>\n",
              "</svg>\n",
              "  </button>\n",
              "\n",
              "<style>\n",
              "  .colab-df-quickchart {\n",
              "      --bg-color: #E8F0FE;\n",
              "      --fill-color: #1967D2;\n",
              "      --hover-bg-color: #E2EBFA;\n",
              "      --hover-fill-color: #174EA6;\n",
              "      --disabled-fill-color: #AAA;\n",
              "      --disabled-bg-color: #DDD;\n",
              "  }\n",
              "\n",
              "  [theme=dark] .colab-df-quickchart {\n",
              "      --bg-color: #3B4455;\n",
              "      --fill-color: #D2E3FC;\n",
              "      --hover-bg-color: #434B5C;\n",
              "      --hover-fill-color: #FFFFFF;\n",
              "      --disabled-bg-color: #3B4455;\n",
              "      --disabled-fill-color: #666;\n",
              "  }\n",
              "\n",
              "  .colab-df-quickchart {\n",
              "    background-color: var(--bg-color);\n",
              "    border: none;\n",
              "    border-radius: 50%;\n",
              "    cursor: pointer;\n",
              "    display: none;\n",
              "    fill: var(--fill-color);\n",
              "    height: 32px;\n",
              "    padding: 0;\n",
              "    width: 32px;\n",
              "  }\n",
              "\n",
              "  .colab-df-quickchart:hover {\n",
              "    background-color: var(--hover-bg-color);\n",
              "    box-shadow: 0 1px 2px rgba(60, 64, 67, 0.3), 0 1px 3px 1px rgba(60, 64, 67, 0.15);\n",
              "    fill: var(--button-hover-fill-color);\n",
              "  }\n",
              "\n",
              "  .colab-df-quickchart-complete:disabled,\n",
              "  .colab-df-quickchart-complete:disabled:hover {\n",
              "    background-color: var(--disabled-bg-color);\n",
              "    fill: var(--disabled-fill-color);\n",
              "    box-shadow: none;\n",
              "  }\n",
              "\n",
              "  .colab-df-spinner {\n",
              "    border: 2px solid var(--fill-color);\n",
              "    border-color: transparent;\n",
              "    border-bottom-color: var(--fill-color);\n",
              "    animation:\n",
              "      spin 1s steps(1) infinite;\n",
              "  }\n",
              "\n",
              "  @keyframes spin {\n",
              "    0% {\n",
              "      border-color: transparent;\n",
              "      border-bottom-color: var(--fill-color);\n",
              "      border-left-color: var(--fill-color);\n",
              "    }\n",
              "    20% {\n",
              "      border-color: transparent;\n",
              "      border-left-color: var(--fill-color);\n",
              "      border-top-color: var(--fill-color);\n",
              "    }\n",
              "    30% {\n",
              "      border-color: transparent;\n",
              "      border-left-color: var(--fill-color);\n",
              "      border-top-color: var(--fill-color);\n",
              "      border-right-color: var(--fill-color);\n",
              "    }\n",
              "    40% {\n",
              "      border-color: transparent;\n",
              "      border-right-color: var(--fill-color);\n",
              "      border-top-color: var(--fill-color);\n",
              "    }\n",
              "    60% {\n",
              "      border-color: transparent;\n",
              "      border-right-color: var(--fill-color);\n",
              "    }\n",
              "    80% {\n",
              "      border-color: transparent;\n",
              "      border-right-color: var(--fill-color);\n",
              "      border-bottom-color: var(--fill-color);\n",
              "    }\n",
              "    90% {\n",
              "      border-color: transparent;\n",
              "      border-bottom-color: var(--fill-color);\n",
              "    }\n",
              "  }\n",
              "</style>\n",
              "\n",
              "  <script>\n",
              "    async function quickchart(key) {\n",
              "      const quickchartButtonEl =\n",
              "        document.querySelector('#' + key + ' button');\n",
              "      quickchartButtonEl.disabled = true;  // To prevent multiple clicks.\n",
              "      quickchartButtonEl.classList.add('colab-df-spinner');\n",
              "      try {\n",
              "        const charts = await google.colab.kernel.invokeFunction(\n",
              "            'suggestCharts', [key], {});\n",
              "      } catch (error) {\n",
              "        console.error('Error during call to suggestCharts:', error);\n",
              "      }\n",
              "      quickchartButtonEl.classList.remove('colab-df-spinner');\n",
              "      quickchartButtonEl.classList.add('colab-df-quickchart-complete');\n",
              "    }\n",
              "    (() => {\n",
              "      let quickchartButtonEl =\n",
              "        document.querySelector('#df-e7d86b30-8ff9-4233-8f20-22559d8e3d83 button');\n",
              "      quickchartButtonEl.style.display =\n",
              "        google.colab.kernel.accessAllowed ? 'block' : 'none';\n",
              "    })();\n",
              "  </script>\n",
              "</div>\n",
              "    </div>\n",
              "  </div>\n"
            ]
          },
          "metadata": {},
          "execution_count": 17
        }
      ],
      "source": [
        "# Make a prediction using the testing data\n",
        "predictions1 = classifier1.predict(X_test1)\n",
        "pd.DataFrame({\"Prediction\": predictions1, \"Actual\": y_test1}).head(10)\n"
      ]
    },
    {
      "cell_type": "markdown",
      "metadata": {
        "id": "RckZwTUr1egW"
      },
      "source": [
        "### Step 3: Evaluate the model’s performance by doing the following:\n",
        "\n",
        "* Calculate the accuracy score of the model.\n",
        "\n",
        "* Generate a confusion matrix.\n",
        "\n",
        "* Print the classification report."
      ]
    },
    {
      "cell_type": "code",
      "execution_count": 18,
      "metadata": {
        "colab": {
          "base_uri": "https://localhost:8080/"
        },
        "id": "4W5NFhfy1egW",
        "outputId": "f66dfff1-2784-496b-9d3e-5f7a37c67c36"
      },
      "outputs": [
        {
          "output_type": "stream",
          "name": "stdout",
          "text": [
            "0.5135295260295261\n"
          ]
        }
      ],
      "source": [
        "# Print the balanced_accuracy score of the 1st model\n",
        "print(balanced_accuracy_score(y_test1, predictions1))\n"
      ]
    },
    {
      "cell_type": "code",
      "execution_count": 19,
      "metadata": {
        "colab": {
          "base_uri": "https://localhost:8080/"
        },
        "id": "4JAFKfFK1egW",
        "outputId": "94b86527-0b6f-435f-bce2-2f6cbd5c648e"
      },
      "outputs": [
        {
          "output_type": "stream",
          "name": "stdout",
          "text": [
            "                 predicted_retained  predicted_churned\n",
            "actual_retained                1946                 34\n",
            "actual_churned                  497                 23\n"
          ]
        }
      ],
      "source": [
        "# Generate a confusion matrix for the 1st model\n",
        "cm1 = confusion_matrix(y_test1, predictions1)\n",
        "cm1_df = pd.DataFrame(\n",
        "    cm1, index=['actual_retained', 'actual_churned'], columns=['predicted_retained', 'predicted_churned']\n",
        ")\n",
        "\n",
        "print(cm1_df)\n"
      ]
    },
    {
      "cell_type": "code",
      "execution_count": 20,
      "metadata": {
        "colab": {
          "base_uri": "https://localhost:8080/"
        },
        "id": "ot_l0SyV1egW",
        "outputId": "0de1a5c4-f6de-4665-8542-3392b146ecfb"
      },
      "outputs": [
        {
          "output_type": "stream",
          "name": "stdout",
          "text": [
            "                   precision    recall  f1-score   support\n",
            "\n",
            "retained_customer       0.80      0.98      0.88      1980\n",
            " churned_customer       0.40      0.04      0.08       520\n",
            "\n",
            "         accuracy                           0.79      2500\n",
            "        macro avg       0.60      0.51      0.48      2500\n",
            "     weighted avg       0.71      0.79      0.71      2500\n",
            "\n"
          ]
        }
      ],
      "source": [
        "# Print the classification report for the 1st model\n",
        "target_names = ['retained_customer', 'churned_customer']\n",
        "\n",
        "cr1 = classification_report(y_test1, predictions1,\n",
        "                            target_names=target_names)\n",
        "\n",
        "print(cr1)\n"
      ]
    },
    {
      "cell_type": "markdown",
      "metadata": {
        "id": "0cuW0rnf1egW"
      },
      "source": [
        "### Step 4: Answer the following question."
      ]
    },
    {
      "cell_type": "markdown",
      "metadata": {
        "id": "CkhK8Vkm1egW"
      },
      "source": [
        "**Question:** How well does the logistic regression model predict both the `0` (healthy loan) and `1` (high-risk loan) labels?\n",
        "\n",
        "**Answer:** The logistic regression model is quite effective at predicting both healthy and high-risk loans, as indicated by the strong f1-scores for each (as well as the strong underlying precision and recall scores). However, in this case the logistic regression model appears to be significantly less effective at predicting high-risk loans than at predicting healthy loans, based on the respective f1-scores of 0.88 vs 1.00). This may be partially due to the dataset being quite unbalanced, with a significant majority of loans being healthy, but for business purposes it may be ideal to find a model that skews in the other direction - 'over-flagging' loans for further review may be better than 'under-flagging', depending on the cost vs. benefit of manually reviewing potentially high-risk loans."
      ]
    },
    {
      "cell_type": "markdown",
      "metadata": {
        "id": "c0_LvaHb1egW"
      },
      "source": [
        "---"
      ]
    },
    {
      "cell_type": "markdown",
      "metadata": {
        "id": "Qfz_rEha1egW"
      },
      "source": [
        "## 2: RESAMPLED/OVERSAMPLED DATA Predict a Logistic Regression Model with Resampled Training Data"
      ]
    },
    {
      "cell_type": "markdown",
      "metadata": {
        "id": "oEiudmDD1egW"
      },
      "source": [
        "### Step 1: Use the `RandomOverSampler` module from the imbalanced-learn library to resample the data. Be sure to confirm that the labels have an equal number of data points."
      ]
    },
    {
      "cell_type": "code",
      "execution_count": 21,
      "metadata": {
        "id": "lJm6fEus1egW"
      },
      "outputs": [],
      "source": [
        "# Instantiate the random oversampler model with a random_state parameter of 1\n",
        "ros = RandomOverSampler(random_state=1)\n",
        "\n",
        "# Fit the original training data to the random_oversampler model\n",
        "X_R, y_R = ros.fit_resample(X_train, y_train)\n"
      ]
    },
    {
      "cell_type": "code",
      "execution_count": 22,
      "metadata": {
        "colab": {
          "base_uri": "https://localhost:8080/"
        },
        "id": "ZbszvTBw1egW",
        "outputId": "03a6ec62-5387-4373-8af5-d01169a53894"
      },
      "outputs": [
        {
          "output_type": "execute_result",
          "data": {
            "text/plain": [
              "0    5983\n",
              "1    5983\n",
              "Name: Exited, dtype: int64"
            ]
          },
          "metadata": {},
          "execution_count": 22
        }
      ],
      "source": [
        "# Count the distinct values of the resampled labels data\n",
        "y_R.value_counts()\n"
      ]
    },
    {
      "cell_type": "code",
      "execution_count": 23,
      "metadata": {
        "id": "vTNKT-nf1egW"
      },
      "outputs": [],
      "source": [
        "# Define training and testing data sets for this second version of the model and label with '2'\n",
        "\n",
        "X_train2 = X_R\n",
        "X_test2 = X_test\n",
        "y_train2 = y_R\n",
        "y_test2 = y_test\n"
      ]
    },
    {
      "cell_type": "markdown",
      "metadata": {
        "id": "jzoV09x71egW"
      },
      "source": [
        "### Step 2: Use the `LogisticRegression` classifier and the resampled data to fit the model and make predictions."
      ]
    },
    {
      "cell_type": "code",
      "execution_count": 24,
      "metadata": {
        "colab": {
          "base_uri": "https://localhost:8080/",
          "height": 363
        },
        "id": "oRhLTjno1egW",
        "outputId": "ad86a3d9-8356-4038-ff8b-d4f42ab5ec59"
      },
      "outputs": [
        {
          "output_type": "execute_result",
          "data": {
            "text/plain": [
              "      Prediction  Actual\n",
              "9953           1       0\n",
              "3850           0       0\n",
              "4962           1       0\n",
              "3886           0       0\n",
              "5437           0       0\n",
              "8517           0       0\n",
              "2041           0       0\n",
              "1989           0       0\n",
              "1933           1       0\n",
              "9984           0       0"
            ],
            "text/html": [
              "\n",
              "  <div id=\"df-4fbae445-527c-4a8a-bf28-1c346d318c50\" class=\"colab-df-container\">\n",
              "    <div>\n",
              "<style scoped>\n",
              "    .dataframe tbody tr th:only-of-type {\n",
              "        vertical-align: middle;\n",
              "    }\n",
              "\n",
              "    .dataframe tbody tr th {\n",
              "        vertical-align: top;\n",
              "    }\n",
              "\n",
              "    .dataframe thead th {\n",
              "        text-align: right;\n",
              "    }\n",
              "</style>\n",
              "<table border=\"1\" class=\"dataframe\">\n",
              "  <thead>\n",
              "    <tr style=\"text-align: right;\">\n",
              "      <th></th>\n",
              "      <th>Prediction</th>\n",
              "      <th>Actual</th>\n",
              "    </tr>\n",
              "  </thead>\n",
              "  <tbody>\n",
              "    <tr>\n",
              "      <th>9953</th>\n",
              "      <td>1</td>\n",
              "      <td>0</td>\n",
              "    </tr>\n",
              "    <tr>\n",
              "      <th>3850</th>\n",
              "      <td>0</td>\n",
              "      <td>0</td>\n",
              "    </tr>\n",
              "    <tr>\n",
              "      <th>4962</th>\n",
              "      <td>1</td>\n",
              "      <td>0</td>\n",
              "    </tr>\n",
              "    <tr>\n",
              "      <th>3886</th>\n",
              "      <td>0</td>\n",
              "      <td>0</td>\n",
              "    </tr>\n",
              "    <tr>\n",
              "      <th>5437</th>\n",
              "      <td>0</td>\n",
              "      <td>0</td>\n",
              "    </tr>\n",
              "    <tr>\n",
              "      <th>8517</th>\n",
              "      <td>0</td>\n",
              "      <td>0</td>\n",
              "    </tr>\n",
              "    <tr>\n",
              "      <th>2041</th>\n",
              "      <td>0</td>\n",
              "      <td>0</td>\n",
              "    </tr>\n",
              "    <tr>\n",
              "      <th>1989</th>\n",
              "      <td>0</td>\n",
              "      <td>0</td>\n",
              "    </tr>\n",
              "    <tr>\n",
              "      <th>1933</th>\n",
              "      <td>1</td>\n",
              "      <td>0</td>\n",
              "    </tr>\n",
              "    <tr>\n",
              "      <th>9984</th>\n",
              "      <td>0</td>\n",
              "      <td>0</td>\n",
              "    </tr>\n",
              "  </tbody>\n",
              "</table>\n",
              "</div>\n",
              "    <div class=\"colab-df-buttons\">\n",
              "\n",
              "  <div class=\"colab-df-container\">\n",
              "    <button class=\"colab-df-convert\" onclick=\"convertToInteractive('df-4fbae445-527c-4a8a-bf28-1c346d318c50')\"\n",
              "            title=\"Convert this dataframe to an interactive table.\"\n",
              "            style=\"display:none;\">\n",
              "\n",
              "  <svg xmlns=\"http://www.w3.org/2000/svg\" height=\"24px\" viewBox=\"0 -960 960 960\">\n",
              "    <path d=\"M120-120v-720h720v720H120Zm60-500h600v-160H180v160Zm220 220h160v-160H400v160Zm0 220h160v-160H400v160ZM180-400h160v-160H180v160Zm440 0h160v-160H620v160ZM180-180h160v-160H180v160Zm440 0h160v-160H620v160Z\"/>\n",
              "  </svg>\n",
              "    </button>\n",
              "\n",
              "  <style>\n",
              "    .colab-df-container {\n",
              "      display:flex;\n",
              "      gap: 12px;\n",
              "    }\n",
              "\n",
              "    .colab-df-convert {\n",
              "      background-color: #E8F0FE;\n",
              "      border: none;\n",
              "      border-radius: 50%;\n",
              "      cursor: pointer;\n",
              "      display: none;\n",
              "      fill: #1967D2;\n",
              "      height: 32px;\n",
              "      padding: 0 0 0 0;\n",
              "      width: 32px;\n",
              "    }\n",
              "\n",
              "    .colab-df-convert:hover {\n",
              "      background-color: #E2EBFA;\n",
              "      box-shadow: 0px 1px 2px rgba(60, 64, 67, 0.3), 0px 1px 3px 1px rgba(60, 64, 67, 0.15);\n",
              "      fill: #174EA6;\n",
              "    }\n",
              "\n",
              "    .colab-df-buttons div {\n",
              "      margin-bottom: 4px;\n",
              "    }\n",
              "\n",
              "    [theme=dark] .colab-df-convert {\n",
              "      background-color: #3B4455;\n",
              "      fill: #D2E3FC;\n",
              "    }\n",
              "\n",
              "    [theme=dark] .colab-df-convert:hover {\n",
              "      background-color: #434B5C;\n",
              "      box-shadow: 0px 1px 3px 1px rgba(0, 0, 0, 0.15);\n",
              "      filter: drop-shadow(0px 1px 2px rgba(0, 0, 0, 0.3));\n",
              "      fill: #FFFFFF;\n",
              "    }\n",
              "  </style>\n",
              "\n",
              "    <script>\n",
              "      const buttonEl =\n",
              "        document.querySelector('#df-4fbae445-527c-4a8a-bf28-1c346d318c50 button.colab-df-convert');\n",
              "      buttonEl.style.display =\n",
              "        google.colab.kernel.accessAllowed ? 'block' : 'none';\n",
              "\n",
              "      async function convertToInteractive(key) {\n",
              "        const element = document.querySelector('#df-4fbae445-527c-4a8a-bf28-1c346d318c50');\n",
              "        const dataTable =\n",
              "          await google.colab.kernel.invokeFunction('convertToInteractive',\n",
              "                                                    [key], {});\n",
              "        if (!dataTable) return;\n",
              "\n",
              "        const docLinkHtml = 'Like what you see? Visit the ' +\n",
              "          '<a target=\"_blank\" href=https://colab.research.google.com/notebooks/data_table.ipynb>data table notebook</a>'\n",
              "          + ' to learn more about interactive tables.';\n",
              "        element.innerHTML = '';\n",
              "        dataTable['output_type'] = 'display_data';\n",
              "        await google.colab.output.renderOutput(dataTable, element);\n",
              "        const docLink = document.createElement('div');\n",
              "        docLink.innerHTML = docLinkHtml;\n",
              "        element.appendChild(docLink);\n",
              "      }\n",
              "    </script>\n",
              "  </div>\n",
              "\n",
              "\n",
              "<div id=\"df-8fa786b0-cfd2-41fe-8e41-1839701d2a84\">\n",
              "  <button class=\"colab-df-quickchart\" onclick=\"quickchart('df-8fa786b0-cfd2-41fe-8e41-1839701d2a84')\"\n",
              "            title=\"Suggest charts\"\n",
              "            style=\"display:none;\">\n",
              "\n",
              "<svg xmlns=\"http://www.w3.org/2000/svg\" height=\"24px\"viewBox=\"0 0 24 24\"\n",
              "     width=\"24px\">\n",
              "    <g>\n",
              "        <path d=\"M19 3H5c-1.1 0-2 .9-2 2v14c0 1.1.9 2 2 2h14c1.1 0 2-.9 2-2V5c0-1.1-.9-2-2-2zM9 17H7v-7h2v7zm4 0h-2V7h2v10zm4 0h-2v-4h2v4z\"/>\n",
              "    </g>\n",
              "</svg>\n",
              "  </button>\n",
              "\n",
              "<style>\n",
              "  .colab-df-quickchart {\n",
              "      --bg-color: #E8F0FE;\n",
              "      --fill-color: #1967D2;\n",
              "      --hover-bg-color: #E2EBFA;\n",
              "      --hover-fill-color: #174EA6;\n",
              "      --disabled-fill-color: #AAA;\n",
              "      --disabled-bg-color: #DDD;\n",
              "  }\n",
              "\n",
              "  [theme=dark] .colab-df-quickchart {\n",
              "      --bg-color: #3B4455;\n",
              "      --fill-color: #D2E3FC;\n",
              "      --hover-bg-color: #434B5C;\n",
              "      --hover-fill-color: #FFFFFF;\n",
              "      --disabled-bg-color: #3B4455;\n",
              "      --disabled-fill-color: #666;\n",
              "  }\n",
              "\n",
              "  .colab-df-quickchart {\n",
              "    background-color: var(--bg-color);\n",
              "    border: none;\n",
              "    border-radius: 50%;\n",
              "    cursor: pointer;\n",
              "    display: none;\n",
              "    fill: var(--fill-color);\n",
              "    height: 32px;\n",
              "    padding: 0;\n",
              "    width: 32px;\n",
              "  }\n",
              "\n",
              "  .colab-df-quickchart:hover {\n",
              "    background-color: var(--hover-bg-color);\n",
              "    box-shadow: 0 1px 2px rgba(60, 64, 67, 0.3), 0 1px 3px 1px rgba(60, 64, 67, 0.15);\n",
              "    fill: var(--button-hover-fill-color);\n",
              "  }\n",
              "\n",
              "  .colab-df-quickchart-complete:disabled,\n",
              "  .colab-df-quickchart-complete:disabled:hover {\n",
              "    background-color: var(--disabled-bg-color);\n",
              "    fill: var(--disabled-fill-color);\n",
              "    box-shadow: none;\n",
              "  }\n",
              "\n",
              "  .colab-df-spinner {\n",
              "    border: 2px solid var(--fill-color);\n",
              "    border-color: transparent;\n",
              "    border-bottom-color: var(--fill-color);\n",
              "    animation:\n",
              "      spin 1s steps(1) infinite;\n",
              "  }\n",
              "\n",
              "  @keyframes spin {\n",
              "    0% {\n",
              "      border-color: transparent;\n",
              "      border-bottom-color: var(--fill-color);\n",
              "      border-left-color: var(--fill-color);\n",
              "    }\n",
              "    20% {\n",
              "      border-color: transparent;\n",
              "      border-left-color: var(--fill-color);\n",
              "      border-top-color: var(--fill-color);\n",
              "    }\n",
              "    30% {\n",
              "      border-color: transparent;\n",
              "      border-left-color: var(--fill-color);\n",
              "      border-top-color: var(--fill-color);\n",
              "      border-right-color: var(--fill-color);\n",
              "    }\n",
              "    40% {\n",
              "      border-color: transparent;\n",
              "      border-right-color: var(--fill-color);\n",
              "      border-top-color: var(--fill-color);\n",
              "    }\n",
              "    60% {\n",
              "      border-color: transparent;\n",
              "      border-right-color: var(--fill-color);\n",
              "    }\n",
              "    80% {\n",
              "      border-color: transparent;\n",
              "      border-right-color: var(--fill-color);\n",
              "      border-bottom-color: var(--fill-color);\n",
              "    }\n",
              "    90% {\n",
              "      border-color: transparent;\n",
              "      border-bottom-color: var(--fill-color);\n",
              "    }\n",
              "  }\n",
              "</style>\n",
              "\n",
              "  <script>\n",
              "    async function quickchart(key) {\n",
              "      const quickchartButtonEl =\n",
              "        document.querySelector('#' + key + ' button');\n",
              "      quickchartButtonEl.disabled = true;  // To prevent multiple clicks.\n",
              "      quickchartButtonEl.classList.add('colab-df-spinner');\n",
              "      try {\n",
              "        const charts = await google.colab.kernel.invokeFunction(\n",
              "            'suggestCharts', [key], {});\n",
              "      } catch (error) {\n",
              "        console.error('Error during call to suggestCharts:', error);\n",
              "      }\n",
              "      quickchartButtonEl.classList.remove('colab-df-spinner');\n",
              "      quickchartButtonEl.classList.add('colab-df-quickchart-complete');\n",
              "    }\n",
              "    (() => {\n",
              "      let quickchartButtonEl =\n",
              "        document.querySelector('#df-8fa786b0-cfd2-41fe-8e41-1839701d2a84 button');\n",
              "      quickchartButtonEl.style.display =\n",
              "        google.colab.kernel.accessAllowed ? 'block' : 'none';\n",
              "    })();\n",
              "  </script>\n",
              "</div>\n",
              "    </div>\n",
              "  </div>\n"
            ]
          },
          "metadata": {},
          "execution_count": 24
        }
      ],
      "source": [
        "# Instantiate the Logistic Regression model with a random_state parameter of 1, labeled with '2' for this first version of the model\n",
        "classifier2 = LogisticRegression(solver='lbfgs', random_state=1)\n",
        "\n",
        "# Fit the model using the resampled training data\n",
        "classifier2.fit(X_train2, y_train2)\n",
        "\n",
        "# Make a prediction using the testing data\n",
        "predictions2 = classifier2.predict(X_test2)\n",
        "pd.DataFrame({\"Prediction\": predictions2, \"Actual\": y_test2}).head(10)\n"
      ]
    },
    {
      "cell_type": "markdown",
      "metadata": {
        "id": "W5ZtRs571egW"
      },
      "source": [
        "### Step 3: Evaluate the model’s performance by doing the following:\n",
        "\n",
        "* Calculate the accuracy score of the model.\n",
        "\n",
        "* Generate a confusion matrix.\n",
        "\n",
        "* Print the classification report."
      ]
    },
    {
      "cell_type": "code",
      "execution_count": 25,
      "metadata": {
        "colab": {
          "base_uri": "https://localhost:8080/"
        },
        "id": "7hJNrJp_1egX",
        "outputId": "b7ce98ad-49e1-4d3e-c730-9004ae102563"
      },
      "outputs": [
        {
          "output_type": "stream",
          "name": "stdout",
          "text": [
            "0.673931623931624\n"
          ]
        }
      ],
      "source": [
        "# Print the balanced_accuracy score of the 2nd model\n",
        "print(balanced_accuracy_score(y_test, predictions2))\n"
      ]
    },
    {
      "cell_type": "code",
      "execution_count": 26,
      "metadata": {
        "colab": {
          "base_uri": "https://localhost:8080/"
        },
        "id": "2M-lPzKU1egX",
        "outputId": "3e06fd29-2292-438a-8fcc-ca7c8ca5a70b"
      },
      "outputs": [
        {
          "output_type": "stream",
          "name": "stdout",
          "text": [
            "                predicted_healthy  predicted_at_risk\n",
            "actual_healthy               1298                682\n",
            "actual_at_risk                160                360\n"
          ]
        }
      ],
      "source": [
        "# Generate a confusion matrix for the 2nd model\n",
        "cm2 = confusion_matrix(y_test2, predictions2)\n",
        "cm2_df = pd.DataFrame(\n",
        "    cm2, index=['actual_healthy', 'actual_at_risk'], columns=['predicted_healthy', 'predicted_at_risk']\n",
        ")\n",
        "\n",
        "print(cm2_df)\n"
      ]
    },
    {
      "cell_type": "code",
      "execution_count": 27,
      "metadata": {
        "colab": {
          "base_uri": "https://localhost:8080/"
        },
        "id": "PHFe9E9h1egX",
        "outputId": "68fd8504-0a40-4095-f926-53f80bfbc9fe"
      },
      "outputs": [
        {
          "output_type": "stream",
          "name": "stdout",
          "text": [
            "                   precision    recall  f1-score   support\n",
            "\n",
            "retained_customer       0.89      0.66      0.76      1980\n",
            " churned_customer       0.35      0.69      0.46       520\n",
            "\n",
            "         accuracy                           0.66      2500\n",
            "        macro avg       0.62      0.67      0.61      2500\n",
            "     weighted avg       0.78      0.66      0.69      2500\n",
            "\n"
          ]
        }
      ],
      "source": [
        "# Print the classification report for the 2nd model\n",
        "\n",
        "cr2 = classification_report(y_test2, predictions2,\n",
        "                            target_names=target_names)\n",
        "\n",
        "print(cr2)\n"
      ]
    },
    {
      "cell_type": "markdown",
      "metadata": {
        "id": "aIuBHO811egX"
      },
      "source": [
        "### Step 4: Answer the following question"
      ]
    },
    {
      "cell_type": "markdown",
      "metadata": {
        "id": "Xj7cGQWD1egX"
      },
      "source": [
        "**Question:** How well does the logistic regression model, fit with oversampled data, predict both the `0` (healthy loan) and `1` (high-risk loan) labels?\n",
        "\n",
        "**Answer:** While the original logistic regression model is quite effective at predicting both healthy and high-risk loans, refitting a logistic regression model to the re-/over-sampled data produces a solidly more reliable model/prediction with a higher f1-score for predicting high-risk loans.\n",
        "\n",
        "From a business perspective this over-sampling-based model may be much more ideal, as the  model 'missed' 52 fewer high-risk loans (just 1/14 (or ~7%) as many high-risk loans as the original model 'missed'), while only mistakenly predicting 14 additional healthy loans as being high-risk compared to the original model. This new model seems likely to be much more favorable from a profitabilty perspective and I would likely recommend that the bank put it into use for flagging potentially high-risk loans for manual/human review (though again it depends on the cost of manual review vs the benefit of identifying high-risk loans early)."
      ]
    },
    {
      "cell_type": "markdown",
      "metadata": {
        "id": "AJjgOSNv1egX"
      },
      "source": [
        "## SCALED DATA Predict a Logistic Regression Model with Scaled Training Data"
      ]
    },
    {
      "cell_type": "code",
      "execution_count": 28,
      "metadata": {
        "id": "ibmCGb6X1egX"
      },
      "outputs": [],
      "source": [
        "# Instantiate the StandardScaler model to normalize the original training and test data\n",
        "sc = StandardScaler()\n"
      ]
    },
    {
      "cell_type": "code",
      "execution_count": 29,
      "metadata": {
        "id": "8HdSzp_p1egX"
      },
      "outputs": [],
      "source": [
        "# Define training and testing data sets for this third version of the model, labled with '3', using the StandardScaler model fit to X_train to transform both X_train and X_test\n",
        "\n",
        "X_train3 = sc.fit_transform(X_train)\n",
        "X_test3 = sc.transform(X_test)\n",
        "y_train3 = y_train\n",
        "y_test3 = y_test\n"
      ]
    },
    {
      "cell_type": "code",
      "execution_count": 30,
      "metadata": {
        "colab": {
          "base_uri": "https://localhost:8080/",
          "height": 75
        },
        "id": "1vqgpWhL1egX",
        "outputId": "6be3104b-e054-472d-fe36-512f253b4181"
      },
      "outputs": [
        {
          "output_type": "execute_result",
          "data": {
            "text/plain": [
              "LogisticRegression(random_state=1)"
            ],
            "text/html": [
              "<style>#sk-container-id-2 {color: black;background-color: white;}#sk-container-id-2 pre{padding: 0;}#sk-container-id-2 div.sk-toggleable {background-color: white;}#sk-container-id-2 label.sk-toggleable__label {cursor: pointer;display: block;width: 100%;margin-bottom: 0;padding: 0.3em;box-sizing: border-box;text-align: center;}#sk-container-id-2 label.sk-toggleable__label-arrow:before {content: \"▸\";float: left;margin-right: 0.25em;color: #696969;}#sk-container-id-2 label.sk-toggleable__label-arrow:hover:before {color: black;}#sk-container-id-2 div.sk-estimator:hover label.sk-toggleable__label-arrow:before {color: black;}#sk-container-id-2 div.sk-toggleable__content {max-height: 0;max-width: 0;overflow: hidden;text-align: left;background-color: #f0f8ff;}#sk-container-id-2 div.sk-toggleable__content pre {margin: 0.2em;color: black;border-radius: 0.25em;background-color: #f0f8ff;}#sk-container-id-2 input.sk-toggleable__control:checked~div.sk-toggleable__content {max-height: 200px;max-width: 100%;overflow: auto;}#sk-container-id-2 input.sk-toggleable__control:checked~label.sk-toggleable__label-arrow:before {content: \"▾\";}#sk-container-id-2 div.sk-estimator input.sk-toggleable__control:checked~label.sk-toggleable__label {background-color: #d4ebff;}#sk-container-id-2 div.sk-label input.sk-toggleable__control:checked~label.sk-toggleable__label {background-color: #d4ebff;}#sk-container-id-2 input.sk-hidden--visually {border: 0;clip: rect(1px 1px 1px 1px);clip: rect(1px, 1px, 1px, 1px);height: 1px;margin: -1px;overflow: hidden;padding: 0;position: absolute;width: 1px;}#sk-container-id-2 div.sk-estimator {font-family: monospace;background-color: #f0f8ff;border: 1px dotted black;border-radius: 0.25em;box-sizing: border-box;margin-bottom: 0.5em;}#sk-container-id-2 div.sk-estimator:hover {background-color: #d4ebff;}#sk-container-id-2 div.sk-parallel-item::after {content: \"\";width: 100%;border-bottom: 1px solid gray;flex-grow: 1;}#sk-container-id-2 div.sk-label:hover label.sk-toggleable__label {background-color: #d4ebff;}#sk-container-id-2 div.sk-serial::before {content: \"\";position: absolute;border-left: 1px solid gray;box-sizing: border-box;top: 0;bottom: 0;left: 50%;z-index: 0;}#sk-container-id-2 div.sk-serial {display: flex;flex-direction: column;align-items: center;background-color: white;padding-right: 0.2em;padding-left: 0.2em;position: relative;}#sk-container-id-2 div.sk-item {position: relative;z-index: 1;}#sk-container-id-2 div.sk-parallel {display: flex;align-items: stretch;justify-content: center;background-color: white;position: relative;}#sk-container-id-2 div.sk-item::before, #sk-container-id-2 div.sk-parallel-item::before {content: \"\";position: absolute;border-left: 1px solid gray;box-sizing: border-box;top: 0;bottom: 0;left: 50%;z-index: -1;}#sk-container-id-2 div.sk-parallel-item {display: flex;flex-direction: column;z-index: 1;position: relative;background-color: white;}#sk-container-id-2 div.sk-parallel-item:first-child::after {align-self: flex-end;width: 50%;}#sk-container-id-2 div.sk-parallel-item:last-child::after {align-self: flex-start;width: 50%;}#sk-container-id-2 div.sk-parallel-item:only-child::after {width: 0;}#sk-container-id-2 div.sk-dashed-wrapped {border: 1px dashed gray;margin: 0 0.4em 0.5em 0.4em;box-sizing: border-box;padding-bottom: 0.4em;background-color: white;}#sk-container-id-2 div.sk-label label {font-family: monospace;font-weight: bold;display: inline-block;line-height: 1.2em;}#sk-container-id-2 div.sk-label-container {text-align: center;}#sk-container-id-2 div.sk-container {/* jupyter's `normalize.less` sets `[hidden] { display: none; }` but bootstrap.min.css set `[hidden] { display: none !important; }` so we also need the `!important` here to be able to override the default hidden behavior on the sphinx rendered scikit-learn.org. See: https://github.com/scikit-learn/scikit-learn/issues/21755 */display: inline-block !important;position: relative;}#sk-container-id-2 div.sk-text-repr-fallback {display: none;}</style><div id=\"sk-container-id-2\" class=\"sk-top-container\"><div class=\"sk-text-repr-fallback\"><pre>LogisticRegression(random_state=1)</pre><b>In a Jupyter environment, please rerun this cell to show the HTML representation or trust the notebook. <br />On GitHub, the HTML representation is unable to render, please try loading this page with nbviewer.org.</b></div><div class=\"sk-container\" hidden><div class=\"sk-item\"><div class=\"sk-estimator sk-toggleable\"><input class=\"sk-toggleable__control sk-hidden--visually\" id=\"sk-estimator-id-2\" type=\"checkbox\" checked><label for=\"sk-estimator-id-2\" class=\"sk-toggleable__label sk-toggleable__label-arrow\">LogisticRegression</label><div class=\"sk-toggleable__content\"><pre>LogisticRegression(random_state=1)</pre></div></div></div></div></div>"
            ]
          },
          "metadata": {},
          "execution_count": 30
        }
      ],
      "source": [
        "# Instantiate the Logistic Regression model with a random_state parameter of 1, labeled with '3' for this third version of the model\n",
        "classifier3 = LogisticRegression(solver='lbfgs', random_state=1)\n",
        "\n",
        "# Fit the model using training data\n",
        "classifier3.fit(X_train3, y_train3)\n"
      ]
    },
    {
      "cell_type": "code",
      "execution_count": 31,
      "metadata": {
        "colab": {
          "base_uri": "https://localhost:8080/",
          "height": 363
        },
        "id": "l1jyWLfI1egX",
        "outputId": "7e1dc8d4-252e-414b-f808-3b036887489e"
      },
      "outputs": [
        {
          "output_type": "execute_result",
          "data": {
            "text/plain": [
              "      Prediction  Actual\n",
              "9953           0       0\n",
              "3850           0       0\n",
              "4962           0       0\n",
              "3886           0       0\n",
              "5437           0       0\n",
              "8517           0       0\n",
              "2041           0       0\n",
              "1989           0       0\n",
              "1933           1       0\n",
              "9984           0       0"
            ],
            "text/html": [
              "\n",
              "  <div id=\"df-300444c9-43a6-409b-b8d0-11d97e441cc2\" class=\"colab-df-container\">\n",
              "    <div>\n",
              "<style scoped>\n",
              "    .dataframe tbody tr th:only-of-type {\n",
              "        vertical-align: middle;\n",
              "    }\n",
              "\n",
              "    .dataframe tbody tr th {\n",
              "        vertical-align: top;\n",
              "    }\n",
              "\n",
              "    .dataframe thead th {\n",
              "        text-align: right;\n",
              "    }\n",
              "</style>\n",
              "<table border=\"1\" class=\"dataframe\">\n",
              "  <thead>\n",
              "    <tr style=\"text-align: right;\">\n",
              "      <th></th>\n",
              "      <th>Prediction</th>\n",
              "      <th>Actual</th>\n",
              "    </tr>\n",
              "  </thead>\n",
              "  <tbody>\n",
              "    <tr>\n",
              "      <th>9953</th>\n",
              "      <td>0</td>\n",
              "      <td>0</td>\n",
              "    </tr>\n",
              "    <tr>\n",
              "      <th>3850</th>\n",
              "      <td>0</td>\n",
              "      <td>0</td>\n",
              "    </tr>\n",
              "    <tr>\n",
              "      <th>4962</th>\n",
              "      <td>0</td>\n",
              "      <td>0</td>\n",
              "    </tr>\n",
              "    <tr>\n",
              "      <th>3886</th>\n",
              "      <td>0</td>\n",
              "      <td>0</td>\n",
              "    </tr>\n",
              "    <tr>\n",
              "      <th>5437</th>\n",
              "      <td>0</td>\n",
              "      <td>0</td>\n",
              "    </tr>\n",
              "    <tr>\n",
              "      <th>8517</th>\n",
              "      <td>0</td>\n",
              "      <td>0</td>\n",
              "    </tr>\n",
              "    <tr>\n",
              "      <th>2041</th>\n",
              "      <td>0</td>\n",
              "      <td>0</td>\n",
              "    </tr>\n",
              "    <tr>\n",
              "      <th>1989</th>\n",
              "      <td>0</td>\n",
              "      <td>0</td>\n",
              "    </tr>\n",
              "    <tr>\n",
              "      <th>1933</th>\n",
              "      <td>1</td>\n",
              "      <td>0</td>\n",
              "    </tr>\n",
              "    <tr>\n",
              "      <th>9984</th>\n",
              "      <td>0</td>\n",
              "      <td>0</td>\n",
              "    </tr>\n",
              "  </tbody>\n",
              "</table>\n",
              "</div>\n",
              "    <div class=\"colab-df-buttons\">\n",
              "\n",
              "  <div class=\"colab-df-container\">\n",
              "    <button class=\"colab-df-convert\" onclick=\"convertToInteractive('df-300444c9-43a6-409b-b8d0-11d97e441cc2')\"\n",
              "            title=\"Convert this dataframe to an interactive table.\"\n",
              "            style=\"display:none;\">\n",
              "\n",
              "  <svg xmlns=\"http://www.w3.org/2000/svg\" height=\"24px\" viewBox=\"0 -960 960 960\">\n",
              "    <path d=\"M120-120v-720h720v720H120Zm60-500h600v-160H180v160Zm220 220h160v-160H400v160Zm0 220h160v-160H400v160ZM180-400h160v-160H180v160Zm440 0h160v-160H620v160ZM180-180h160v-160H180v160Zm440 0h160v-160H620v160Z\"/>\n",
              "  </svg>\n",
              "    </button>\n",
              "\n",
              "  <style>\n",
              "    .colab-df-container {\n",
              "      display:flex;\n",
              "      gap: 12px;\n",
              "    }\n",
              "\n",
              "    .colab-df-convert {\n",
              "      background-color: #E8F0FE;\n",
              "      border: none;\n",
              "      border-radius: 50%;\n",
              "      cursor: pointer;\n",
              "      display: none;\n",
              "      fill: #1967D2;\n",
              "      height: 32px;\n",
              "      padding: 0 0 0 0;\n",
              "      width: 32px;\n",
              "    }\n",
              "\n",
              "    .colab-df-convert:hover {\n",
              "      background-color: #E2EBFA;\n",
              "      box-shadow: 0px 1px 2px rgba(60, 64, 67, 0.3), 0px 1px 3px 1px rgba(60, 64, 67, 0.15);\n",
              "      fill: #174EA6;\n",
              "    }\n",
              "\n",
              "    .colab-df-buttons div {\n",
              "      margin-bottom: 4px;\n",
              "    }\n",
              "\n",
              "    [theme=dark] .colab-df-convert {\n",
              "      background-color: #3B4455;\n",
              "      fill: #D2E3FC;\n",
              "    }\n",
              "\n",
              "    [theme=dark] .colab-df-convert:hover {\n",
              "      background-color: #434B5C;\n",
              "      box-shadow: 0px 1px 3px 1px rgba(0, 0, 0, 0.15);\n",
              "      filter: drop-shadow(0px 1px 2px rgba(0, 0, 0, 0.3));\n",
              "      fill: #FFFFFF;\n",
              "    }\n",
              "  </style>\n",
              "\n",
              "    <script>\n",
              "      const buttonEl =\n",
              "        document.querySelector('#df-300444c9-43a6-409b-b8d0-11d97e441cc2 button.colab-df-convert');\n",
              "      buttonEl.style.display =\n",
              "        google.colab.kernel.accessAllowed ? 'block' : 'none';\n",
              "\n",
              "      async function convertToInteractive(key) {\n",
              "        const element = document.querySelector('#df-300444c9-43a6-409b-b8d0-11d97e441cc2');\n",
              "        const dataTable =\n",
              "          await google.colab.kernel.invokeFunction('convertToInteractive',\n",
              "                                                    [key], {});\n",
              "        if (!dataTable) return;\n",
              "\n",
              "        const docLinkHtml = 'Like what you see? Visit the ' +\n",
              "          '<a target=\"_blank\" href=https://colab.research.google.com/notebooks/data_table.ipynb>data table notebook</a>'\n",
              "          + ' to learn more about interactive tables.';\n",
              "        element.innerHTML = '';\n",
              "        dataTable['output_type'] = 'display_data';\n",
              "        await google.colab.output.renderOutput(dataTable, element);\n",
              "        const docLink = document.createElement('div');\n",
              "        docLink.innerHTML = docLinkHtml;\n",
              "        element.appendChild(docLink);\n",
              "      }\n",
              "    </script>\n",
              "  </div>\n",
              "\n",
              "\n",
              "<div id=\"df-508c5b9f-ad7d-46d1-852f-dda51920be95\">\n",
              "  <button class=\"colab-df-quickchart\" onclick=\"quickchart('df-508c5b9f-ad7d-46d1-852f-dda51920be95')\"\n",
              "            title=\"Suggest charts\"\n",
              "            style=\"display:none;\">\n",
              "\n",
              "<svg xmlns=\"http://www.w3.org/2000/svg\" height=\"24px\"viewBox=\"0 0 24 24\"\n",
              "     width=\"24px\">\n",
              "    <g>\n",
              "        <path d=\"M19 3H5c-1.1 0-2 .9-2 2v14c0 1.1.9 2 2 2h14c1.1 0 2-.9 2-2V5c0-1.1-.9-2-2-2zM9 17H7v-7h2v7zm4 0h-2V7h2v10zm4 0h-2v-4h2v4z\"/>\n",
              "    </g>\n",
              "</svg>\n",
              "  </button>\n",
              "\n",
              "<style>\n",
              "  .colab-df-quickchart {\n",
              "      --bg-color: #E8F0FE;\n",
              "      --fill-color: #1967D2;\n",
              "      --hover-bg-color: #E2EBFA;\n",
              "      --hover-fill-color: #174EA6;\n",
              "      --disabled-fill-color: #AAA;\n",
              "      --disabled-bg-color: #DDD;\n",
              "  }\n",
              "\n",
              "  [theme=dark] .colab-df-quickchart {\n",
              "      --bg-color: #3B4455;\n",
              "      --fill-color: #D2E3FC;\n",
              "      --hover-bg-color: #434B5C;\n",
              "      --hover-fill-color: #FFFFFF;\n",
              "      --disabled-bg-color: #3B4455;\n",
              "      --disabled-fill-color: #666;\n",
              "  }\n",
              "\n",
              "  .colab-df-quickchart {\n",
              "    background-color: var(--bg-color);\n",
              "    border: none;\n",
              "    border-radius: 50%;\n",
              "    cursor: pointer;\n",
              "    display: none;\n",
              "    fill: var(--fill-color);\n",
              "    height: 32px;\n",
              "    padding: 0;\n",
              "    width: 32px;\n",
              "  }\n",
              "\n",
              "  .colab-df-quickchart:hover {\n",
              "    background-color: var(--hover-bg-color);\n",
              "    box-shadow: 0 1px 2px rgba(60, 64, 67, 0.3), 0 1px 3px 1px rgba(60, 64, 67, 0.15);\n",
              "    fill: var(--button-hover-fill-color);\n",
              "  }\n",
              "\n",
              "  .colab-df-quickchart-complete:disabled,\n",
              "  .colab-df-quickchart-complete:disabled:hover {\n",
              "    background-color: var(--disabled-bg-color);\n",
              "    fill: var(--disabled-fill-color);\n",
              "    box-shadow: none;\n",
              "  }\n",
              "\n",
              "  .colab-df-spinner {\n",
              "    border: 2px solid var(--fill-color);\n",
              "    border-color: transparent;\n",
              "    border-bottom-color: var(--fill-color);\n",
              "    animation:\n",
              "      spin 1s steps(1) infinite;\n",
              "  }\n",
              "\n",
              "  @keyframes spin {\n",
              "    0% {\n",
              "      border-color: transparent;\n",
              "      border-bottom-color: var(--fill-color);\n",
              "      border-left-color: var(--fill-color);\n",
              "    }\n",
              "    20% {\n",
              "      border-color: transparent;\n",
              "      border-left-color: var(--fill-color);\n",
              "      border-top-color: var(--fill-color);\n",
              "    }\n",
              "    30% {\n",
              "      border-color: transparent;\n",
              "      border-left-color: var(--fill-color);\n",
              "      border-top-color: var(--fill-color);\n",
              "      border-right-color: var(--fill-color);\n",
              "    }\n",
              "    40% {\n",
              "      border-color: transparent;\n",
              "      border-right-color: var(--fill-color);\n",
              "      border-top-color: var(--fill-color);\n",
              "    }\n",
              "    60% {\n",
              "      border-color: transparent;\n",
              "      border-right-color: var(--fill-color);\n",
              "    }\n",
              "    80% {\n",
              "      border-color: transparent;\n",
              "      border-right-color: var(--fill-color);\n",
              "      border-bottom-color: var(--fill-color);\n",
              "    }\n",
              "    90% {\n",
              "      border-color: transparent;\n",
              "      border-bottom-color: var(--fill-color);\n",
              "    }\n",
              "  }\n",
              "</style>\n",
              "\n",
              "  <script>\n",
              "    async function quickchart(key) {\n",
              "      const quickchartButtonEl =\n",
              "        document.querySelector('#' + key + ' button');\n",
              "      quickchartButtonEl.disabled = true;  // To prevent multiple clicks.\n",
              "      quickchartButtonEl.classList.add('colab-df-spinner');\n",
              "      try {\n",
              "        const charts = await google.colab.kernel.invokeFunction(\n",
              "            'suggestCharts', [key], {});\n",
              "      } catch (error) {\n",
              "        console.error('Error during call to suggestCharts:', error);\n",
              "      }\n",
              "      quickchartButtonEl.classList.remove('colab-df-spinner');\n",
              "      quickchartButtonEl.classList.add('colab-df-quickchart-complete');\n",
              "    }\n",
              "    (() => {\n",
              "      let quickchartButtonEl =\n",
              "        document.querySelector('#df-508c5b9f-ad7d-46d1-852f-dda51920be95 button');\n",
              "      quickchartButtonEl.style.display =\n",
              "        google.colab.kernel.accessAllowed ? 'block' : 'none';\n",
              "    })();\n",
              "  </script>\n",
              "</div>\n",
              "    </div>\n",
              "  </div>\n"
            ]
          },
          "metadata": {},
          "execution_count": 31
        }
      ],
      "source": [
        "# Make a prediction using the testing data\n",
        "predictions3 = classifier3.predict(X_test3)\n",
        "pd.DataFrame({\"Prediction\": predictions3, \"Actual\": y_test3}).head(10)\n"
      ]
    },
    {
      "cell_type": "code",
      "execution_count": 32,
      "metadata": {
        "colab": {
          "base_uri": "https://localhost:8080/"
        },
        "id": "PmpoOTi81egX",
        "outputId": "9e6982de-3c16-4250-bdbe-2d23b1168927"
      },
      "outputs": [
        {
          "output_type": "stream",
          "name": "stdout",
          "text": [
            "0.593405205905206\n"
          ]
        }
      ],
      "source": [
        "# Print the balanced_accuracy score of the 3rd model\n",
        "print(balanced_accuracy_score(y_test3, predictions3))\n"
      ]
    },
    {
      "cell_type": "code",
      "execution_count": 33,
      "metadata": {
        "colab": {
          "base_uri": "https://localhost:8080/"
        },
        "id": "wp114UQW1egY",
        "outputId": "1021d419-5943-4a78-d8d2-fdf19700abd4"
      },
      "outputs": [
        {
          "output_type": "stream",
          "name": "stdout",
          "text": [
            "                 predicted_retained  predicted_churned\n",
            "actual_retained                1912                 68\n",
            "actual_churned                  405                115\n"
          ]
        }
      ],
      "source": [
        "# Generate a confusion matrix for the 3rd model\n",
        "cm3 = confusion_matrix(y_test3, predictions3)\n",
        "cm3_df = pd.DataFrame(\n",
        "    cm3, index=['actual_retained', 'actual_churned'], columns=['predicted_retained', 'predicted_churned']\n",
        ")\n",
        "\n",
        "print(cm3_df)\n"
      ]
    },
    {
      "cell_type": "code",
      "execution_count": 34,
      "metadata": {
        "colab": {
          "base_uri": "https://localhost:8080/"
        },
        "id": "y52Bh25U1egY",
        "outputId": "da175e52-4796-4a37-c01d-8327731c2110"
      },
      "outputs": [
        {
          "output_type": "stream",
          "name": "stdout",
          "text": [
            "                   precision    recall  f1-score   support\n",
            "\n",
            "retained_customer       0.83      0.97      0.89      1980\n",
            " churned_customer       0.63      0.22      0.33       520\n",
            "\n",
            "         accuracy                           0.81      2500\n",
            "        macro avg       0.73      0.59      0.61      2500\n",
            "     weighted avg       0.78      0.81      0.77      2500\n",
            "\n"
          ]
        }
      ],
      "source": [
        "# Print the classification report for the 3rd model\n",
        "target_names = ['retained_customer', 'churned_customer']\n",
        "\n",
        "cr3 = classification_report(y_test3, predictions3,\n",
        "                            target_names=target_names)\n",
        "\n",
        "print(cr3)\n"
      ]
    },
    {
      "cell_type": "markdown",
      "metadata": {
        "id": "wB-ea2ZE1egY"
      },
      "source": [
        "## SCALED+RESAMPLED/OVERSAMPLED DATA Predict a Logistic Regression Model with Scaled+Oversampled Training Data"
      ]
    },
    {
      "cell_type": "code",
      "execution_count": 35,
      "metadata": {
        "id": "7IDuBJyK1egY"
      },
      "outputs": [],
      "source": [
        "# Instantiate the random oversampler model with a random_state parameter of 1\n",
        "ros = RandomOverSampler(random_state=1)\n",
        "\n",
        "# Fit the scaled training data from the prior version of the model to the random_oversampler model\n",
        "X_R, y_R = ros.fit_resample(X_train3, y_train3)\n"
      ]
    },
    {
      "cell_type": "code",
      "execution_count": 36,
      "metadata": {
        "colab": {
          "base_uri": "https://localhost:8080/"
        },
        "id": "qTVNQ4kD1egY",
        "outputId": "5b891474-08e1-40e3-c14a-7aeb8164a2d0"
      },
      "outputs": [
        {
          "output_type": "execute_result",
          "data": {
            "text/plain": [
              "0    5983\n",
              "1    5983\n",
              "Name: Exited, dtype: int64"
            ]
          },
          "metadata": {},
          "execution_count": 36
        }
      ],
      "source": [
        "# Count the distinct values of the resampled labels/outcomes data\n",
        "y_R.value_counts()\n"
      ]
    },
    {
      "cell_type": "code",
      "execution_count": 37,
      "metadata": {
        "id": "xU4Hgl6l1egY"
      },
      "outputs": [],
      "source": [
        "# Define training and testing data sets for this fourth version of the model and label with '4'\n",
        "\n",
        "X_train4 = X_R\n",
        "X_test4 = X_test3\n",
        "y_train4 = y_R\n",
        "y_test4 = y_test\n"
      ]
    },
    {
      "cell_type": "code",
      "execution_count": 38,
      "metadata": {
        "colab": {
          "base_uri": "https://localhost:8080/",
          "height": 75
        },
        "id": "H2iKgt3f1egY",
        "outputId": "cd251490-b2ba-484b-af5d-2e45c196037d"
      },
      "outputs": [
        {
          "output_type": "execute_result",
          "data": {
            "text/plain": [
              "LogisticRegression(random_state=1)"
            ],
            "text/html": [
              "<style>#sk-container-id-3 {color: black;background-color: white;}#sk-container-id-3 pre{padding: 0;}#sk-container-id-3 div.sk-toggleable {background-color: white;}#sk-container-id-3 label.sk-toggleable__label {cursor: pointer;display: block;width: 100%;margin-bottom: 0;padding: 0.3em;box-sizing: border-box;text-align: center;}#sk-container-id-3 label.sk-toggleable__label-arrow:before {content: \"▸\";float: left;margin-right: 0.25em;color: #696969;}#sk-container-id-3 label.sk-toggleable__label-arrow:hover:before {color: black;}#sk-container-id-3 div.sk-estimator:hover label.sk-toggleable__label-arrow:before {color: black;}#sk-container-id-3 div.sk-toggleable__content {max-height: 0;max-width: 0;overflow: hidden;text-align: left;background-color: #f0f8ff;}#sk-container-id-3 div.sk-toggleable__content pre {margin: 0.2em;color: black;border-radius: 0.25em;background-color: #f0f8ff;}#sk-container-id-3 input.sk-toggleable__control:checked~div.sk-toggleable__content {max-height: 200px;max-width: 100%;overflow: auto;}#sk-container-id-3 input.sk-toggleable__control:checked~label.sk-toggleable__label-arrow:before {content: \"▾\";}#sk-container-id-3 div.sk-estimator input.sk-toggleable__control:checked~label.sk-toggleable__label {background-color: #d4ebff;}#sk-container-id-3 div.sk-label input.sk-toggleable__control:checked~label.sk-toggleable__label {background-color: #d4ebff;}#sk-container-id-3 input.sk-hidden--visually {border: 0;clip: rect(1px 1px 1px 1px);clip: rect(1px, 1px, 1px, 1px);height: 1px;margin: -1px;overflow: hidden;padding: 0;position: absolute;width: 1px;}#sk-container-id-3 div.sk-estimator {font-family: monospace;background-color: #f0f8ff;border: 1px dotted black;border-radius: 0.25em;box-sizing: border-box;margin-bottom: 0.5em;}#sk-container-id-3 div.sk-estimator:hover {background-color: #d4ebff;}#sk-container-id-3 div.sk-parallel-item::after {content: \"\";width: 100%;border-bottom: 1px solid gray;flex-grow: 1;}#sk-container-id-3 div.sk-label:hover label.sk-toggleable__label {background-color: #d4ebff;}#sk-container-id-3 div.sk-serial::before {content: \"\";position: absolute;border-left: 1px solid gray;box-sizing: border-box;top: 0;bottom: 0;left: 50%;z-index: 0;}#sk-container-id-3 div.sk-serial {display: flex;flex-direction: column;align-items: center;background-color: white;padding-right: 0.2em;padding-left: 0.2em;position: relative;}#sk-container-id-3 div.sk-item {position: relative;z-index: 1;}#sk-container-id-3 div.sk-parallel {display: flex;align-items: stretch;justify-content: center;background-color: white;position: relative;}#sk-container-id-3 div.sk-item::before, #sk-container-id-3 div.sk-parallel-item::before {content: \"\";position: absolute;border-left: 1px solid gray;box-sizing: border-box;top: 0;bottom: 0;left: 50%;z-index: -1;}#sk-container-id-3 div.sk-parallel-item {display: flex;flex-direction: column;z-index: 1;position: relative;background-color: white;}#sk-container-id-3 div.sk-parallel-item:first-child::after {align-self: flex-end;width: 50%;}#sk-container-id-3 div.sk-parallel-item:last-child::after {align-self: flex-start;width: 50%;}#sk-container-id-3 div.sk-parallel-item:only-child::after {width: 0;}#sk-container-id-3 div.sk-dashed-wrapped {border: 1px dashed gray;margin: 0 0.4em 0.5em 0.4em;box-sizing: border-box;padding-bottom: 0.4em;background-color: white;}#sk-container-id-3 div.sk-label label {font-family: monospace;font-weight: bold;display: inline-block;line-height: 1.2em;}#sk-container-id-3 div.sk-label-container {text-align: center;}#sk-container-id-3 div.sk-container {/* jupyter's `normalize.less` sets `[hidden] { display: none; }` but bootstrap.min.css set `[hidden] { display: none !important; }` so we also need the `!important` here to be able to override the default hidden behavior on the sphinx rendered scikit-learn.org. See: https://github.com/scikit-learn/scikit-learn/issues/21755 */display: inline-block !important;position: relative;}#sk-container-id-3 div.sk-text-repr-fallback {display: none;}</style><div id=\"sk-container-id-3\" class=\"sk-top-container\"><div class=\"sk-text-repr-fallback\"><pre>LogisticRegression(random_state=1)</pre><b>In a Jupyter environment, please rerun this cell to show the HTML representation or trust the notebook. <br />On GitHub, the HTML representation is unable to render, please try loading this page with nbviewer.org.</b></div><div class=\"sk-container\" hidden><div class=\"sk-item\"><div class=\"sk-estimator sk-toggleable\"><input class=\"sk-toggleable__control sk-hidden--visually\" id=\"sk-estimator-id-3\" type=\"checkbox\" checked><label for=\"sk-estimator-id-3\" class=\"sk-toggleable__label sk-toggleable__label-arrow\">LogisticRegression</label><div class=\"sk-toggleable__content\"><pre>LogisticRegression(random_state=1)</pre></div></div></div></div></div>"
            ]
          },
          "metadata": {},
          "execution_count": 38
        }
      ],
      "source": [
        "# Instantiate the Logistic Regression model with a random_state parameter of 1\n",
        "classifier4 = LogisticRegression(solver='lbfgs', random_state=1)\n",
        "\n",
        "# Fit the model using training data\n",
        "classifier4.fit(X_train4, y_train4)\n"
      ]
    },
    {
      "cell_type": "code",
      "execution_count": 39,
      "metadata": {
        "colab": {
          "base_uri": "https://localhost:8080/",
          "height": 363
        },
        "id": "v0D1sDsC1egY",
        "outputId": "d1ae8935-c255-494f-d8d1-f09d7df8c048"
      },
      "outputs": [
        {
          "output_type": "execute_result",
          "data": {
            "text/plain": [
              "      Prediction  Actual\n",
              "9953           0       0\n",
              "3850           0       0\n",
              "4962           0       0\n",
              "3886           0       0\n",
              "5437           0       0\n",
              "8517           0       0\n",
              "2041           1       0\n",
              "1989           0       0\n",
              "1933           1       0\n",
              "9984           0       0"
            ],
            "text/html": [
              "\n",
              "  <div id=\"df-b0a7a88a-ea24-40ef-9011-998dd49c7ce8\" class=\"colab-df-container\">\n",
              "    <div>\n",
              "<style scoped>\n",
              "    .dataframe tbody tr th:only-of-type {\n",
              "        vertical-align: middle;\n",
              "    }\n",
              "\n",
              "    .dataframe tbody tr th {\n",
              "        vertical-align: top;\n",
              "    }\n",
              "\n",
              "    .dataframe thead th {\n",
              "        text-align: right;\n",
              "    }\n",
              "</style>\n",
              "<table border=\"1\" class=\"dataframe\">\n",
              "  <thead>\n",
              "    <tr style=\"text-align: right;\">\n",
              "      <th></th>\n",
              "      <th>Prediction</th>\n",
              "      <th>Actual</th>\n",
              "    </tr>\n",
              "  </thead>\n",
              "  <tbody>\n",
              "    <tr>\n",
              "      <th>9953</th>\n",
              "      <td>0</td>\n",
              "      <td>0</td>\n",
              "    </tr>\n",
              "    <tr>\n",
              "      <th>3850</th>\n",
              "      <td>0</td>\n",
              "      <td>0</td>\n",
              "    </tr>\n",
              "    <tr>\n",
              "      <th>4962</th>\n",
              "      <td>0</td>\n",
              "      <td>0</td>\n",
              "    </tr>\n",
              "    <tr>\n",
              "      <th>3886</th>\n",
              "      <td>0</td>\n",
              "      <td>0</td>\n",
              "    </tr>\n",
              "    <tr>\n",
              "      <th>5437</th>\n",
              "      <td>0</td>\n",
              "      <td>0</td>\n",
              "    </tr>\n",
              "    <tr>\n",
              "      <th>8517</th>\n",
              "      <td>0</td>\n",
              "      <td>0</td>\n",
              "    </tr>\n",
              "    <tr>\n",
              "      <th>2041</th>\n",
              "      <td>1</td>\n",
              "      <td>0</td>\n",
              "    </tr>\n",
              "    <tr>\n",
              "      <th>1989</th>\n",
              "      <td>0</td>\n",
              "      <td>0</td>\n",
              "    </tr>\n",
              "    <tr>\n",
              "      <th>1933</th>\n",
              "      <td>1</td>\n",
              "      <td>0</td>\n",
              "    </tr>\n",
              "    <tr>\n",
              "      <th>9984</th>\n",
              "      <td>0</td>\n",
              "      <td>0</td>\n",
              "    </tr>\n",
              "  </tbody>\n",
              "</table>\n",
              "</div>\n",
              "    <div class=\"colab-df-buttons\">\n",
              "\n",
              "  <div class=\"colab-df-container\">\n",
              "    <button class=\"colab-df-convert\" onclick=\"convertToInteractive('df-b0a7a88a-ea24-40ef-9011-998dd49c7ce8')\"\n",
              "            title=\"Convert this dataframe to an interactive table.\"\n",
              "            style=\"display:none;\">\n",
              "\n",
              "  <svg xmlns=\"http://www.w3.org/2000/svg\" height=\"24px\" viewBox=\"0 -960 960 960\">\n",
              "    <path d=\"M120-120v-720h720v720H120Zm60-500h600v-160H180v160Zm220 220h160v-160H400v160Zm0 220h160v-160H400v160ZM180-400h160v-160H180v160Zm440 0h160v-160H620v160ZM180-180h160v-160H180v160Zm440 0h160v-160H620v160Z\"/>\n",
              "  </svg>\n",
              "    </button>\n",
              "\n",
              "  <style>\n",
              "    .colab-df-container {\n",
              "      display:flex;\n",
              "      gap: 12px;\n",
              "    }\n",
              "\n",
              "    .colab-df-convert {\n",
              "      background-color: #E8F0FE;\n",
              "      border: none;\n",
              "      border-radius: 50%;\n",
              "      cursor: pointer;\n",
              "      display: none;\n",
              "      fill: #1967D2;\n",
              "      height: 32px;\n",
              "      padding: 0 0 0 0;\n",
              "      width: 32px;\n",
              "    }\n",
              "\n",
              "    .colab-df-convert:hover {\n",
              "      background-color: #E2EBFA;\n",
              "      box-shadow: 0px 1px 2px rgba(60, 64, 67, 0.3), 0px 1px 3px 1px rgba(60, 64, 67, 0.15);\n",
              "      fill: #174EA6;\n",
              "    }\n",
              "\n",
              "    .colab-df-buttons div {\n",
              "      margin-bottom: 4px;\n",
              "    }\n",
              "\n",
              "    [theme=dark] .colab-df-convert {\n",
              "      background-color: #3B4455;\n",
              "      fill: #D2E3FC;\n",
              "    }\n",
              "\n",
              "    [theme=dark] .colab-df-convert:hover {\n",
              "      background-color: #434B5C;\n",
              "      box-shadow: 0px 1px 3px 1px rgba(0, 0, 0, 0.15);\n",
              "      filter: drop-shadow(0px 1px 2px rgba(0, 0, 0, 0.3));\n",
              "      fill: #FFFFFF;\n",
              "    }\n",
              "  </style>\n",
              "\n",
              "    <script>\n",
              "      const buttonEl =\n",
              "        document.querySelector('#df-b0a7a88a-ea24-40ef-9011-998dd49c7ce8 button.colab-df-convert');\n",
              "      buttonEl.style.display =\n",
              "        google.colab.kernel.accessAllowed ? 'block' : 'none';\n",
              "\n",
              "      async function convertToInteractive(key) {\n",
              "        const element = document.querySelector('#df-b0a7a88a-ea24-40ef-9011-998dd49c7ce8');\n",
              "        const dataTable =\n",
              "          await google.colab.kernel.invokeFunction('convertToInteractive',\n",
              "                                                    [key], {});\n",
              "        if (!dataTable) return;\n",
              "\n",
              "        const docLinkHtml = 'Like what you see? Visit the ' +\n",
              "          '<a target=\"_blank\" href=https://colab.research.google.com/notebooks/data_table.ipynb>data table notebook</a>'\n",
              "          + ' to learn more about interactive tables.';\n",
              "        element.innerHTML = '';\n",
              "        dataTable['output_type'] = 'display_data';\n",
              "        await google.colab.output.renderOutput(dataTable, element);\n",
              "        const docLink = document.createElement('div');\n",
              "        docLink.innerHTML = docLinkHtml;\n",
              "        element.appendChild(docLink);\n",
              "      }\n",
              "    </script>\n",
              "  </div>\n",
              "\n",
              "\n",
              "<div id=\"df-efc46ca6-e007-43ad-80d9-1dc8395193f5\">\n",
              "  <button class=\"colab-df-quickchart\" onclick=\"quickchart('df-efc46ca6-e007-43ad-80d9-1dc8395193f5')\"\n",
              "            title=\"Suggest charts\"\n",
              "            style=\"display:none;\">\n",
              "\n",
              "<svg xmlns=\"http://www.w3.org/2000/svg\" height=\"24px\"viewBox=\"0 0 24 24\"\n",
              "     width=\"24px\">\n",
              "    <g>\n",
              "        <path d=\"M19 3H5c-1.1 0-2 .9-2 2v14c0 1.1.9 2 2 2h14c1.1 0 2-.9 2-2V5c0-1.1-.9-2-2-2zM9 17H7v-7h2v7zm4 0h-2V7h2v10zm4 0h-2v-4h2v4z\"/>\n",
              "    </g>\n",
              "</svg>\n",
              "  </button>\n",
              "\n",
              "<style>\n",
              "  .colab-df-quickchart {\n",
              "      --bg-color: #E8F0FE;\n",
              "      --fill-color: #1967D2;\n",
              "      --hover-bg-color: #E2EBFA;\n",
              "      --hover-fill-color: #174EA6;\n",
              "      --disabled-fill-color: #AAA;\n",
              "      --disabled-bg-color: #DDD;\n",
              "  }\n",
              "\n",
              "  [theme=dark] .colab-df-quickchart {\n",
              "      --bg-color: #3B4455;\n",
              "      --fill-color: #D2E3FC;\n",
              "      --hover-bg-color: #434B5C;\n",
              "      --hover-fill-color: #FFFFFF;\n",
              "      --disabled-bg-color: #3B4455;\n",
              "      --disabled-fill-color: #666;\n",
              "  }\n",
              "\n",
              "  .colab-df-quickchart {\n",
              "    background-color: var(--bg-color);\n",
              "    border: none;\n",
              "    border-radius: 50%;\n",
              "    cursor: pointer;\n",
              "    display: none;\n",
              "    fill: var(--fill-color);\n",
              "    height: 32px;\n",
              "    padding: 0;\n",
              "    width: 32px;\n",
              "  }\n",
              "\n",
              "  .colab-df-quickchart:hover {\n",
              "    background-color: var(--hover-bg-color);\n",
              "    box-shadow: 0 1px 2px rgba(60, 64, 67, 0.3), 0 1px 3px 1px rgba(60, 64, 67, 0.15);\n",
              "    fill: var(--button-hover-fill-color);\n",
              "  }\n",
              "\n",
              "  .colab-df-quickchart-complete:disabled,\n",
              "  .colab-df-quickchart-complete:disabled:hover {\n",
              "    background-color: var(--disabled-bg-color);\n",
              "    fill: var(--disabled-fill-color);\n",
              "    box-shadow: none;\n",
              "  }\n",
              "\n",
              "  .colab-df-spinner {\n",
              "    border: 2px solid var(--fill-color);\n",
              "    border-color: transparent;\n",
              "    border-bottom-color: var(--fill-color);\n",
              "    animation:\n",
              "      spin 1s steps(1) infinite;\n",
              "  }\n",
              "\n",
              "  @keyframes spin {\n",
              "    0% {\n",
              "      border-color: transparent;\n",
              "      border-bottom-color: var(--fill-color);\n",
              "      border-left-color: var(--fill-color);\n",
              "    }\n",
              "    20% {\n",
              "      border-color: transparent;\n",
              "      border-left-color: var(--fill-color);\n",
              "      border-top-color: var(--fill-color);\n",
              "    }\n",
              "    30% {\n",
              "      border-color: transparent;\n",
              "      border-left-color: var(--fill-color);\n",
              "      border-top-color: var(--fill-color);\n",
              "      border-right-color: var(--fill-color);\n",
              "    }\n",
              "    40% {\n",
              "      border-color: transparent;\n",
              "      border-right-color: var(--fill-color);\n",
              "      border-top-color: var(--fill-color);\n",
              "    }\n",
              "    60% {\n",
              "      border-color: transparent;\n",
              "      border-right-color: var(--fill-color);\n",
              "    }\n",
              "    80% {\n",
              "      border-color: transparent;\n",
              "      border-right-color: var(--fill-color);\n",
              "      border-bottom-color: var(--fill-color);\n",
              "    }\n",
              "    90% {\n",
              "      border-color: transparent;\n",
              "      border-bottom-color: var(--fill-color);\n",
              "    }\n",
              "  }\n",
              "</style>\n",
              "\n",
              "  <script>\n",
              "    async function quickchart(key) {\n",
              "      const quickchartButtonEl =\n",
              "        document.querySelector('#' + key + ' button');\n",
              "      quickchartButtonEl.disabled = true;  // To prevent multiple clicks.\n",
              "      quickchartButtonEl.classList.add('colab-df-spinner');\n",
              "      try {\n",
              "        const charts = await google.colab.kernel.invokeFunction(\n",
              "            'suggestCharts', [key], {});\n",
              "      } catch (error) {\n",
              "        console.error('Error during call to suggestCharts:', error);\n",
              "      }\n",
              "      quickchartButtonEl.classList.remove('colab-df-spinner');\n",
              "      quickchartButtonEl.classList.add('colab-df-quickchart-complete');\n",
              "    }\n",
              "    (() => {\n",
              "      let quickchartButtonEl =\n",
              "        document.querySelector('#df-efc46ca6-e007-43ad-80d9-1dc8395193f5 button');\n",
              "      quickchartButtonEl.style.display =\n",
              "        google.colab.kernel.accessAllowed ? 'block' : 'none';\n",
              "    })();\n",
              "  </script>\n",
              "</div>\n",
              "    </div>\n",
              "  </div>\n"
            ]
          },
          "metadata": {},
          "execution_count": 39
        }
      ],
      "source": [
        "# Make a prediction using the testing data\n",
        "predictions4 = classifier4.predict(X_test4)\n",
        "pd.DataFrame({\"Prediction\": predictions4, \"Actual\": y_test4}).head(10)\n"
      ]
    },
    {
      "cell_type": "code",
      "execution_count": 40,
      "metadata": {
        "colab": {
          "base_uri": "https://localhost:8080/"
        },
        "id": "JAfYyUIP1egY",
        "outputId": "ed7b3333-b7fd-4e88-9b66-ca6d5f1383e2"
      },
      "outputs": [
        {
          "output_type": "stream",
          "name": "stdout",
          "text": [
            "0.7118589743589743\n"
          ]
        }
      ],
      "source": [
        "# Print the balanced_accuracy score of the 4th model\n",
        "print(balanced_accuracy_score(y_test4, predictions4))\n"
      ]
    },
    {
      "cell_type": "code",
      "execution_count": 41,
      "metadata": {
        "colab": {
          "base_uri": "https://localhost:8080/"
        },
        "id": "v5lZ3_a_1egY",
        "outputId": "90aeee22-c36c-4018-9c55-c8a627e32223"
      },
      "outputs": [
        {
          "output_type": "stream",
          "name": "stdout",
          "text": [
            "                 predicted_retained  predicted_churned\n",
            "actual_retained                1452                528\n",
            "actual_churned                  161                359\n"
          ]
        }
      ],
      "source": [
        "# Generate a confusion matrix for the 4th model\n",
        "cm4 = confusion_matrix(y_test4, predictions4)\n",
        "cm4_df = pd.DataFrame(\n",
        "    cm4, index=['actual_retained', 'actual_churned'], columns=['predicted_retained', 'predicted_churned']\n",
        ")\n",
        "\n",
        "print(cm4_df)\n"
      ]
    },
    {
      "cell_type": "code",
      "execution_count": 42,
      "metadata": {
        "colab": {
          "base_uri": "https://localhost:8080/"
        },
        "id": "GkB0JWZv1egY",
        "outputId": "cdf5b760-8efd-4e8d-950c-ca29c02bb36e"
      },
      "outputs": [
        {
          "output_type": "stream",
          "name": "stdout",
          "text": [
            "                   precision    recall  f1-score   support\n",
            "\n",
            "retained_customer       0.90      0.73      0.81      1980\n",
            " churned_customer       0.40      0.69      0.51       520\n",
            "\n",
            "         accuracy                           0.72      2500\n",
            "        macro avg       0.65      0.71      0.66      2500\n",
            "     weighted avg       0.80      0.72      0.75      2500\n",
            "\n"
          ]
        }
      ],
      "source": [
        "# Print the classification report for the 4th model\n",
        "target_names = ['retained_customer', 'churned_customer']\n",
        "\n",
        "cr4 = classification_report(y_test4, predictions4,\n",
        "                            target_names=target_names)\n",
        "\n",
        "print(cr4)\n"
      ]
    },
    {
      "cell_type": "code",
      "execution_count": 50,
      "metadata": {
        "id": "c_es3lan1egY"
      },
      "outputs": [],
      "source": []
    },
    {
      "cell_type": "markdown",
      "metadata": {
        "id": "_mUe1Z-l4134"
      },
      "source": [
        "## NN MODEL: Build and Train a Neural Network Model (using Scaled Training Data)"
      ]
    },
    {
      "cell_type": "code",
      "source": [
        "# Create the Keras Sequential model\n",
        "nn_model1 = tf.keras.models.Sequential()\n",
        "\n",
        "# Add our first Dense layer, including the input layer\n",
        "nn_model1.add(tf.keras.layers.Dense(units=1, activation=\"relu\", input_dim=13))\n",
        "\n",
        "# Add the output layer that uses a probability activation function\n",
        "nn_model1.add(tf.keras.layers.Dense(units=1, activation=\"sigmoid\"))\n",
        "\n",
        "# Check the structure of the Sequential model\n",
        "nn_model1.summary()"
      ],
      "metadata": {
        "colab": {
          "base_uri": "https://localhost:8080/"
        },
        "id": "TWHqsu6H5HLh",
        "outputId": "c7ebdffe-527b-4080-901b-b5107537f794"
      },
      "execution_count": 51,
      "outputs": [
        {
          "output_type": "stream",
          "name": "stdout",
          "text": [
            "Model: \"sequential_3\"\n",
            "_________________________________________________________________\n",
            " Layer (type)                Output Shape              Param #   \n",
            "=================================================================\n",
            " dense_6 (Dense)             (None, 1)                 14        \n",
            "                                                                 \n",
            " dense_7 (Dense)             (None, 1)                 2         \n",
            "                                                                 \n",
            "=================================================================\n",
            "Total params: 16 (64.00 Byte)\n",
            "Trainable params: 16 (64.00 Byte)\n",
            "Non-trainable params: 0 (0.00 Byte)\n",
            "_________________________________________________________________\n"
          ]
        }
      ]
    },
    {
      "cell_type": "code",
      "source": [
        "# Compile the Sequential model together and customize metrics\n",
        "nn_model1.compile(loss=\"binary_crossentropy\", optimizer=\"adam\", metrics=[\"accuracy\"])"
      ],
      "metadata": {
        "id": "3XPtwK-T7B-E"
      },
      "execution_count": 52,
      "outputs": []
    },
    {
      "cell_type": "code",
      "source": [
        "# Fit the model to the training data\n",
        "fit_nn_model1 = nn_model1.fit(X_train3, y_train3, epochs=42)"
      ],
      "metadata": {
        "colab": {
          "base_uri": "https://localhost:8080/"
        },
        "id": "hzCGmyrL7Ce3",
        "outputId": "130adbd9-a76a-49a1-b48b-cf4cfeb995e1"
      },
      "execution_count": 119,
      "outputs": [
        {
          "output_type": "stream",
          "name": "stdout",
          "text": [
            "Epoch 1/42\n",
            "235/235 [==============================] - 1s 4ms/step - loss: 0.4313 - accuracy: 0.8128\n",
            "Epoch 2/42\n",
            "235/235 [==============================] - 1s 4ms/step - loss: 0.4313 - accuracy: 0.8128\n",
            "Epoch 3/42\n",
            "235/235 [==============================] - 1s 3ms/step - loss: 0.4312 - accuracy: 0.8127\n",
            "Epoch 4/42\n",
            "235/235 [==============================] - 1s 5ms/step - loss: 0.4310 - accuracy: 0.8117\n",
            "Epoch 5/42\n",
            "235/235 [==============================] - 2s 9ms/step - loss: 0.4310 - accuracy: 0.8137\n",
            "Epoch 6/42\n",
            "235/235 [==============================] - 1s 3ms/step - loss: 0.4308 - accuracy: 0.8124\n",
            "Epoch 7/42\n",
            "235/235 [==============================] - 1s 3ms/step - loss: 0.4308 - accuracy: 0.8117\n",
            "Epoch 8/42\n",
            "235/235 [==============================] - 1s 3ms/step - loss: 0.4307 - accuracy: 0.8131\n",
            "Epoch 9/42\n",
            "235/235 [==============================] - 0s 2ms/step - loss: 0.4305 - accuracy: 0.8129\n",
            "Epoch 10/42\n",
            "235/235 [==============================] - 0s 2ms/step - loss: 0.4304 - accuracy: 0.8128\n",
            "Epoch 11/42\n",
            "235/235 [==============================] - 0s 2ms/step - loss: 0.4304 - accuracy: 0.8120\n",
            "Epoch 12/42\n",
            "235/235 [==============================] - 1s 2ms/step - loss: 0.4303 - accuracy: 0.8124\n",
            "Epoch 13/42\n",
            "235/235 [==============================] - 0s 2ms/step - loss: 0.4302 - accuracy: 0.8119\n",
            "Epoch 14/42\n",
            "235/235 [==============================] - 0s 2ms/step - loss: 0.4302 - accuracy: 0.8112\n",
            "Epoch 15/42\n",
            "235/235 [==============================] - 0s 2ms/step - loss: 0.4301 - accuracy: 0.8124\n",
            "Epoch 16/42\n",
            "235/235 [==============================] - 0s 2ms/step - loss: 0.4302 - accuracy: 0.8127\n",
            "Epoch 17/42\n",
            "235/235 [==============================] - 0s 2ms/step - loss: 0.4301 - accuracy: 0.8124\n",
            "Epoch 18/42\n",
            "235/235 [==============================] - 0s 2ms/step - loss: 0.4299 - accuracy: 0.8117\n",
            "Epoch 19/42\n",
            "235/235 [==============================] - 0s 2ms/step - loss: 0.4300 - accuracy: 0.8119\n",
            "Epoch 20/42\n",
            "235/235 [==============================] - 0s 2ms/step - loss: 0.4299 - accuracy: 0.8112\n",
            "Epoch 21/42\n",
            "235/235 [==============================] - 0s 2ms/step - loss: 0.4299 - accuracy: 0.8116\n",
            "Epoch 22/42\n",
            "235/235 [==============================] - 0s 2ms/step - loss: 0.4299 - accuracy: 0.8124\n",
            "Epoch 23/42\n",
            "235/235 [==============================] - 0s 2ms/step - loss: 0.4297 - accuracy: 0.8115\n",
            "Epoch 24/42\n",
            "235/235 [==============================] - 0s 2ms/step - loss: 0.4297 - accuracy: 0.8131\n",
            "Epoch 25/42\n",
            "235/235 [==============================] - 0s 2ms/step - loss: 0.4297 - accuracy: 0.8117\n",
            "Epoch 26/42\n",
            "235/235 [==============================] - 0s 2ms/step - loss: 0.4296 - accuracy: 0.8115\n",
            "Epoch 27/42\n",
            "235/235 [==============================] - 0s 2ms/step - loss: 0.4297 - accuracy: 0.8129\n",
            "Epoch 28/42\n",
            "235/235 [==============================] - 0s 2ms/step - loss: 0.4296 - accuracy: 0.8119\n",
            "Epoch 29/42\n",
            "235/235 [==============================] - 0s 2ms/step - loss: 0.4297 - accuracy: 0.8129\n",
            "Epoch 30/42\n",
            "235/235 [==============================] - 1s 6ms/step - loss: 0.4296 - accuracy: 0.8135\n",
            "Epoch 31/42\n",
            "235/235 [==============================] - 2s 7ms/step - loss: 0.4295 - accuracy: 0.8117\n",
            "Epoch 32/42\n",
            "235/235 [==============================] - 2s 6ms/step - loss: 0.4296 - accuracy: 0.8129\n",
            "Epoch 33/42\n",
            "235/235 [==============================] - 1s 4ms/step - loss: 0.4296 - accuracy: 0.8133\n",
            "Epoch 34/42\n",
            "235/235 [==============================] - 0s 2ms/step - loss: 0.4294 - accuracy: 0.8121\n",
            "Epoch 35/42\n",
            "235/235 [==============================] - 1s 2ms/step - loss: 0.4295 - accuracy: 0.8125\n",
            "Epoch 36/42\n",
            "235/235 [==============================] - 0s 2ms/step - loss: 0.4294 - accuracy: 0.8128\n",
            "Epoch 37/42\n",
            "235/235 [==============================] - 0s 2ms/step - loss: 0.4295 - accuracy: 0.8124\n",
            "Epoch 38/42\n",
            "235/235 [==============================] - 0s 2ms/step - loss: 0.4295 - accuracy: 0.8129\n",
            "Epoch 39/42\n",
            "235/235 [==============================] - 0s 2ms/step - loss: 0.4294 - accuracy: 0.8123\n",
            "Epoch 40/42\n",
            "235/235 [==============================] - 0s 2ms/step - loss: 0.4294 - accuracy: 0.8128\n",
            "Epoch 41/42\n",
            "235/235 [==============================] - 0s 2ms/step - loss: 0.4295 - accuracy: 0.8117\n",
            "Epoch 42/42\n",
            "235/235 [==============================] - 0s 2ms/step - loss: 0.4294 - accuracy: 0.8119\n"
          ]
        }
      ]
    },
    {
      "cell_type": "code",
      "source": [],
      "metadata": {
        "id": "w8wJdlTObcdu"
      },
      "execution_count": null,
      "outputs": []
    },
    {
      "cell_type": "markdown",
      "metadata": {
        "id": "arsT7ap8-3mU"
      },
      "source": [
        "## NN MODEL + Oversampling: Build and Train a Neural Network Model (using Scaled+Oversampled Training Data)"
      ]
    },
    {
      "cell_type": "code",
      "source": [
        "# Create the Keras Sequential model\n",
        "nn_model2 = tf.keras.models.Sequential()\n",
        "\n",
        "# Add our first Dense layer, including the input layer\n",
        "nn_model2.add(tf.keras.layers.Dense(units=1, activation=\"relu\", input_dim=13))\n",
        "\n",
        "# Add the output layer that uses a probability activation function\n",
        "nn_model2.add(tf.keras.layers.Dense(units=1, activation=\"sigmoid\"))\n",
        "\n",
        "# Check the structure of the Sequential model\n",
        "nn_model2.summary()"
      ],
      "metadata": {
        "colab": {
          "base_uri": "https://localhost:8080/"
        },
        "id": "8_jn1mNT-Uh2",
        "outputId": "44978d16-25c4-439b-be18-58b12a038a31"
      },
      "execution_count": 55,
      "outputs": [
        {
          "output_type": "stream",
          "name": "stdout",
          "text": [
            "Model: \"sequential_4\"\n",
            "_________________________________________________________________\n",
            " Layer (type)                Output Shape              Param #   \n",
            "=================================================================\n",
            " dense_8 (Dense)             (None, 1)                 14        \n",
            "                                                                 \n",
            " dense_9 (Dense)             (None, 1)                 2         \n",
            "                                                                 \n",
            "=================================================================\n",
            "Total params: 16 (64.00 Byte)\n",
            "Trainable params: 16 (64.00 Byte)\n",
            "Non-trainable params: 0 (0.00 Byte)\n",
            "_________________________________________________________________\n"
          ]
        }
      ]
    },
    {
      "cell_type": "code",
      "source": [
        "# Compile the Sequential model together and customize metrics\n",
        "nn_model2.compile(loss=\"binary_crossentropy\", optimizer=\"adam\", metrics=[\"accuracy\"])"
      ],
      "metadata": {
        "id": "MuLyFCh--Uwe"
      },
      "execution_count": 56,
      "outputs": []
    },
    {
      "cell_type": "code",
      "source": [
        "# Fit the model to the training data\n",
        "fit_nn_model2 = nn_model2.fit(X_train4, y_train4, epochs=47)"
      ],
      "metadata": {
        "colab": {
          "base_uri": "https://localhost:8080/"
        },
        "id": "id7-R8Jo-Uy9",
        "outputId": "9763ac1c-df3f-442b-b066-e60640deb82d"
      },
      "execution_count": 58,
      "outputs": [
        {
          "output_type": "stream",
          "name": "stdout",
          "text": [
            "Epoch 1/47\n",
            "374/374 [==============================] - 1s 3ms/step - loss: 0.5799 - accuracy: 0.7098\n",
            "Epoch 2/47\n",
            "374/374 [==============================] - 1s 2ms/step - loss: 0.5797 - accuracy: 0.7103\n",
            "Epoch 3/47\n",
            "374/374 [==============================] - 1s 2ms/step - loss: 0.5795 - accuracy: 0.7103\n",
            "Epoch 4/47\n",
            "374/374 [==============================] - 1s 2ms/step - loss: 0.5794 - accuracy: 0.7101\n",
            "Epoch 5/47\n",
            "374/374 [==============================] - 1s 2ms/step - loss: 0.5794 - accuracy: 0.7096\n",
            "Epoch 6/47\n",
            "374/374 [==============================] - 1s 3ms/step - loss: 0.5792 - accuracy: 0.7099\n",
            "Epoch 7/47\n",
            "374/374 [==============================] - 1s 2ms/step - loss: 0.5791 - accuracy: 0.7098\n",
            "Epoch 8/47\n",
            "374/374 [==============================] - 1s 2ms/step - loss: 0.5791 - accuracy: 0.7102\n",
            "Epoch 9/47\n",
            "374/374 [==============================] - 1s 2ms/step - loss: 0.5790 - accuracy: 0.7113\n",
            "Epoch 10/47\n",
            "374/374 [==============================] - 1s 2ms/step - loss: 0.5789 - accuracy: 0.7100\n",
            "Epoch 11/47\n",
            "374/374 [==============================] - 1s 2ms/step - loss: 0.5789 - accuracy: 0.7103\n",
            "Epoch 12/47\n",
            "374/374 [==============================] - 1s 2ms/step - loss: 0.5790 - accuracy: 0.7103\n",
            "Epoch 13/47\n",
            "374/374 [==============================] - 1s 2ms/step - loss: 0.5790 - accuracy: 0.7102\n",
            "Epoch 14/47\n",
            "374/374 [==============================] - 1s 2ms/step - loss: 0.5788 - accuracy: 0.7099\n",
            "Epoch 15/47\n",
            "374/374 [==============================] - 1s 2ms/step - loss: 0.5789 - accuracy: 0.7110\n",
            "Epoch 16/47\n",
            "374/374 [==============================] - 1s 2ms/step - loss: 0.5788 - accuracy: 0.7103\n",
            "Epoch 17/47\n",
            "374/374 [==============================] - 1s 3ms/step - loss: 0.5788 - accuracy: 0.7106\n",
            "Epoch 18/47\n",
            "374/374 [==============================] - 1s 3ms/step - loss: 0.5788 - accuracy: 0.7122\n",
            "Epoch 19/47\n",
            "374/374 [==============================] - 1s 2ms/step - loss: 0.5788 - accuracy: 0.7103\n",
            "Epoch 20/47\n",
            "374/374 [==============================] - 1s 2ms/step - loss: 0.5788 - accuracy: 0.7113\n",
            "Epoch 21/47\n",
            "374/374 [==============================] - 1s 2ms/step - loss: 0.5788 - accuracy: 0.7113\n",
            "Epoch 22/47\n",
            "374/374 [==============================] - 1s 2ms/step - loss: 0.5789 - accuracy: 0.7109\n",
            "Epoch 23/47\n",
            "374/374 [==============================] - 1s 2ms/step - loss: 0.5787 - accuracy: 0.7095\n",
            "Epoch 24/47\n",
            "374/374 [==============================] - 1s 2ms/step - loss: 0.5788 - accuracy: 0.7119\n",
            "Epoch 25/47\n",
            "374/374 [==============================] - 1s 2ms/step - loss: 0.5789 - accuracy: 0.7103\n",
            "Epoch 26/47\n",
            "374/374 [==============================] - 1s 2ms/step - loss: 0.5788 - accuracy: 0.7103\n",
            "Epoch 27/47\n",
            "374/374 [==============================] - 1s 2ms/step - loss: 0.5788 - accuracy: 0.7098\n",
            "Epoch 28/47\n",
            "374/374 [==============================] - 1s 2ms/step - loss: 0.5788 - accuracy: 0.7108\n",
            "Epoch 29/47\n",
            "374/374 [==============================] - 1s 2ms/step - loss: 0.5788 - accuracy: 0.7125\n",
            "Epoch 30/47\n",
            "374/374 [==============================] - 1s 2ms/step - loss: 0.5788 - accuracy: 0.7106\n",
            "Epoch 31/47\n",
            "374/374 [==============================] - 1s 2ms/step - loss: 0.5788 - accuracy: 0.7103\n",
            "Epoch 32/47\n",
            "374/374 [==============================] - 1s 2ms/step - loss: 0.5787 - accuracy: 0.7103\n",
            "Epoch 33/47\n",
            "374/374 [==============================] - 1s 3ms/step - loss: 0.5787 - accuracy: 0.7106\n",
            "Epoch 34/47\n",
            "374/374 [==============================] - 1s 3ms/step - loss: 0.5788 - accuracy: 0.7100\n",
            "Epoch 35/47\n",
            "374/374 [==============================] - 1s 3ms/step - loss: 0.5787 - accuracy: 0.7115\n",
            "Epoch 36/47\n",
            "374/374 [==============================] - 1s 3ms/step - loss: 0.5788 - accuracy: 0.7111\n",
            "Epoch 37/47\n",
            "374/374 [==============================] - 1s 2ms/step - loss: 0.5787 - accuracy: 0.7119\n",
            "Epoch 38/47\n",
            "374/374 [==============================] - 1s 2ms/step - loss: 0.5788 - accuracy: 0.7107\n",
            "Epoch 39/47\n",
            "374/374 [==============================] - 1s 2ms/step - loss: 0.5788 - accuracy: 0.7108\n",
            "Epoch 40/47\n",
            "374/374 [==============================] - 1s 2ms/step - loss: 0.5787 - accuracy: 0.7111\n",
            "Epoch 41/47\n",
            "374/374 [==============================] - 1s 2ms/step - loss: 0.5788 - accuracy: 0.7090\n",
            "Epoch 42/47\n",
            "374/374 [==============================] - 1s 2ms/step - loss: 0.5787 - accuracy: 0.7113\n",
            "Epoch 43/47\n",
            "374/374 [==============================] - 1s 2ms/step - loss: 0.5788 - accuracy: 0.7107\n",
            "Epoch 44/47\n",
            "374/374 [==============================] - 1s 2ms/step - loss: 0.5788 - accuracy: 0.7098\n",
            "Epoch 45/47\n",
            "374/374 [==============================] - 1s 2ms/step - loss: 0.5788 - accuracy: 0.7114\n",
            "Epoch 46/47\n",
            "374/374 [==============================] - 1s 2ms/step - loss: 0.5788 - accuracy: 0.7118\n",
            "Epoch 47/47\n",
            "374/374 [==============================] - 1s 2ms/step - loss: 0.5788 - accuracy: 0.7107\n"
          ]
        }
      ]
    },
    {
      "cell_type": "code",
      "source": [],
      "metadata": {
        "id": "eea5axSbba4d"
      },
      "execution_count": null,
      "outputs": []
    },
    {
      "cell_type": "markdown",
      "metadata": {
        "id": "6bLzNHp1ACXr"
      },
      "source": [
        "## NN MODEL + 1 Hidden Layer: Build and Train a Neural Network Model (using Scaled+Oversampled Training Data)"
      ]
    },
    {
      "cell_type": "code",
      "source": [
        "# Create the Keras Sequential model\n",
        "nn_model3 = tf.keras.models.Sequential()\n",
        "\n",
        "# Add our first Dense layer, including the input layer\n",
        "nn_model3.add(tf.keras.layers.Dense(units=1, activation=\"relu\", input_dim=13))\n",
        "\n",
        "# Add a second Dense layer, to be a hidden layer\n",
        "nn_model3.add(tf.keras.layers.Dense(units=4, activation=\"relu\"))\n",
        "\n",
        "# Add the output layer that uses a probability activation function\n",
        "nn_model3.add(tf.keras.layers.Dense(units=1, activation=\"sigmoid\"))\n",
        "\n",
        "# Check the structure of the Sequential model\n",
        "nn_model3.summary()"
      ],
      "metadata": {
        "colab": {
          "base_uri": "https://localhost:8080/"
        },
        "outputId": "494934e5-9099-4439-9529-6a6a022473b8",
        "id": "Tlyjcxjb_sUH"
      },
      "execution_count": 69,
      "outputs": [
        {
          "output_type": "stream",
          "name": "stdout",
          "text": [
            "Model: \"sequential_8\"\n",
            "_________________________________________________________________\n",
            " Layer (type)                Output Shape              Param #   \n",
            "=================================================================\n",
            " dense_18 (Dense)            (None, 1)                 14        \n",
            "                                                                 \n",
            " dense_19 (Dense)            (None, 4)                 8         \n",
            "                                                                 \n",
            " dense_20 (Dense)            (None, 1)                 5         \n",
            "                                                                 \n",
            "=================================================================\n",
            "Total params: 27 (108.00 Byte)\n",
            "Trainable params: 27 (108.00 Byte)\n",
            "Non-trainable params: 0 (0.00 Byte)\n",
            "_________________________________________________________________\n"
          ]
        }
      ]
    },
    {
      "cell_type": "code",
      "source": [
        "# Compile the Sequential model together and customize metrics\n",
        "nn_model3.compile(loss=\"binary_crossentropy\", optimizer=\"adam\", metrics=[\"accuracy\"])"
      ],
      "metadata": {
        "id": "TsXArxNw_sUI"
      },
      "execution_count": 70,
      "outputs": []
    },
    {
      "cell_type": "code",
      "source": [
        "# Fit the model to the training data\n",
        "fit_nn_model3 = nn_model3.fit(X_train3, y_train3, epochs=42)"
      ],
      "metadata": {
        "colab": {
          "base_uri": "https://localhost:8080/"
        },
        "outputId": "d47fe139-7893-4fb7-f8b0-d74d7a8c90ba",
        "id": "vvH4Onig_sUI"
      },
      "execution_count": 71,
      "outputs": [
        {
          "output_type": "stream",
          "name": "stdout",
          "text": [
            "Epoch 1/42\n",
            "235/235 [==============================] - 1s 2ms/step - loss: 0.5949 - accuracy: 0.7769\n",
            "Epoch 2/42\n",
            "235/235 [==============================] - 1s 2ms/step - loss: 0.4942 - accuracy: 0.7977\n",
            "Epoch 3/42\n",
            "235/235 [==============================] - 0s 2ms/step - loss: 0.4727 - accuracy: 0.7977\n",
            "Epoch 4/42\n",
            "235/235 [==============================] - 0s 2ms/step - loss: 0.4628 - accuracy: 0.7977\n",
            "Epoch 5/42\n",
            "235/235 [==============================] - 0s 2ms/step - loss: 0.4557 - accuracy: 0.7977\n",
            "Epoch 6/42\n",
            "235/235 [==============================] - 0s 2ms/step - loss: 0.4494 - accuracy: 0.7977\n",
            "Epoch 7/42\n",
            "235/235 [==============================] - 0s 2ms/step - loss: 0.4444 - accuracy: 0.7977\n",
            "Epoch 8/42\n",
            "235/235 [==============================] - 0s 2ms/step - loss: 0.4403 - accuracy: 0.7977\n",
            "Epoch 9/42\n",
            "235/235 [==============================] - 0s 2ms/step - loss: 0.4369 - accuracy: 0.7977\n",
            "Epoch 10/42\n",
            "235/235 [==============================] - 0s 2ms/step - loss: 0.4342 - accuracy: 0.7977\n",
            "Epoch 11/42\n",
            "235/235 [==============================] - 0s 2ms/step - loss: 0.4325 - accuracy: 0.7977\n",
            "Epoch 12/42\n",
            "235/235 [==============================] - 0s 2ms/step - loss: 0.4308 - accuracy: 0.7977\n",
            "Epoch 13/42\n",
            "235/235 [==============================] - 0s 2ms/step - loss: 0.4299 - accuracy: 0.7977\n",
            "Epoch 14/42\n",
            "235/235 [==============================] - 0s 2ms/step - loss: 0.4292 - accuracy: 0.7977\n",
            "Epoch 15/42\n",
            "235/235 [==============================] - 0s 2ms/step - loss: 0.4288 - accuracy: 0.7977\n",
            "Epoch 16/42\n",
            "235/235 [==============================] - 1s 2ms/step - loss: 0.4287 - accuracy: 0.7977\n",
            "Epoch 17/42\n",
            "235/235 [==============================] - 1s 3ms/step - loss: 0.4285 - accuracy: 0.7977\n",
            "Epoch 18/42\n",
            "235/235 [==============================] - 1s 3ms/step - loss: 0.4282 - accuracy: 0.7977\n",
            "Epoch 19/42\n",
            "235/235 [==============================] - 1s 3ms/step - loss: 0.4279 - accuracy: 0.7977\n",
            "Epoch 20/42\n",
            "235/235 [==============================] - 1s 3ms/step - loss: 0.4279 - accuracy: 0.7977\n",
            "Epoch 21/42\n",
            "235/235 [==============================] - 1s 3ms/step - loss: 0.4280 - accuracy: 0.7977\n",
            "Epoch 22/42\n",
            "235/235 [==============================] - 1s 3ms/step - loss: 0.4278 - accuracy: 0.7977\n",
            "Epoch 23/42\n",
            "235/235 [==============================] - 1s 3ms/step - loss: 0.4278 - accuracy: 0.7977\n",
            "Epoch 24/42\n",
            "235/235 [==============================] - 0s 2ms/step - loss: 0.4278 - accuracy: 0.7977\n",
            "Epoch 25/42\n",
            "235/235 [==============================] - 0s 2ms/step - loss: 0.4277 - accuracy: 0.7977\n",
            "Epoch 26/42\n",
            "235/235 [==============================] - 1s 2ms/step - loss: 0.4277 - accuracy: 0.7977\n",
            "Epoch 27/42\n",
            "235/235 [==============================] - 0s 2ms/step - loss: 0.4276 - accuracy: 0.7977\n",
            "Epoch 28/42\n",
            "235/235 [==============================] - 0s 2ms/step - loss: 0.4274 - accuracy: 0.7977\n",
            "Epoch 29/42\n",
            "235/235 [==============================] - 1s 2ms/step - loss: 0.4276 - accuracy: 0.7977\n",
            "Epoch 30/42\n",
            "235/235 [==============================] - 0s 2ms/step - loss: 0.4275 - accuracy: 0.7977\n",
            "Epoch 31/42\n",
            "235/235 [==============================] - 0s 2ms/step - loss: 0.4274 - accuracy: 0.7977\n",
            "Epoch 32/42\n",
            "235/235 [==============================] - 0s 2ms/step - loss: 0.4274 - accuracy: 0.7977\n",
            "Epoch 33/42\n",
            "235/235 [==============================] - 1s 2ms/step - loss: 0.4275 - accuracy: 0.7977\n",
            "Epoch 34/42\n",
            "235/235 [==============================] - 1s 2ms/step - loss: 0.4274 - accuracy: 0.7977\n",
            "Epoch 35/42\n",
            "235/235 [==============================] - 0s 2ms/step - loss: 0.4273 - accuracy: 0.7977\n",
            "Epoch 36/42\n",
            "235/235 [==============================] - 0s 2ms/step - loss: 0.4273 - accuracy: 0.7977\n",
            "Epoch 37/42\n",
            "235/235 [==============================] - 1s 2ms/step - loss: 0.4274 - accuracy: 0.7977\n",
            "Epoch 38/42\n",
            "235/235 [==============================] - 0s 2ms/step - loss: 0.4273 - accuracy: 0.7977\n",
            "Epoch 39/42\n",
            "235/235 [==============================] - 0s 2ms/step - loss: 0.4274 - accuracy: 0.7977\n",
            "Epoch 40/42\n",
            "235/235 [==============================] - 0s 2ms/step - loss: 0.4273 - accuracy: 0.7977\n",
            "Epoch 41/42\n",
            "235/235 [==============================] - 1s 2ms/step - loss: 0.4273 - accuracy: 0.7977\n",
            "Epoch 42/42\n",
            "235/235 [==============================] - 0s 2ms/step - loss: 0.4274 - accuracy: 0.7977\n"
          ]
        }
      ]
    },
    {
      "cell_type": "code",
      "source": [],
      "metadata": {
        "id": "zGJzOINmBTzp"
      },
      "execution_count": null,
      "outputs": []
    },
    {
      "cell_type": "markdown",
      "metadata": {
        "id": "0OoOwKg1BYSd"
      },
      "source": [
        "## NN MODEL + More Layers + More Units: Build and Train a Neural Network Model (using Scaled+Oversampled Training Data)"
      ]
    },
    {
      "cell_type": "code",
      "source": [
        "# Create the Keras Sequential model\n",
        "nn_model4 = tf.keras.models.Sequential()\n",
        "\n",
        "# Add our first Dense layer, including the input layer\n",
        "nn_model4.add(tf.keras.layers.Dense(units=1, activation=\"relu\", input_dim=13))\n",
        "\n",
        "# Add a second Dense layer, to be a hidden layer\n",
        "nn_model4.add(tf.keras.layers.Dense(units=10, activation=\"linear\"))\n",
        "\n",
        "# Add a third Dense layer, to be another hidden layer\n",
        "nn_model4.add(tf.keras.layers.Dense(units=6, activation=\"tanh\"))\n",
        "\n",
        "# Add the output layer that uses a probability activation function\n",
        "nn_model4.add(tf.keras.layers.Dense(units=1, activation=\"sigmoid\"))\n",
        "\n",
        "# Check the structure of the Sequential model\n",
        "nn_model4.summary()"
      ],
      "metadata": {
        "colab": {
          "base_uri": "https://localhost:8080/"
        },
        "outputId": "0b71b6fb-ae66-4aa9-d543-8e561c83fb9e",
        "id": "Z9hUO1e8BYSd"
      },
      "execution_count": 87,
      "outputs": [
        {
          "output_type": "stream",
          "name": "stdout",
          "text": [
            "Model: \"sequential_14\"\n",
            "_________________________________________________________________\n",
            " Layer (type)                Output Shape              Param #   \n",
            "=================================================================\n",
            " dense_41 (Dense)            (None, 1)                 14        \n",
            "                                                                 \n",
            " dense_42 (Dense)            (None, 10)                20        \n",
            "                                                                 \n",
            " dense_43 (Dense)            (None, 6)                 66        \n",
            "                                                                 \n",
            " dense_44 (Dense)            (None, 1)                 7         \n",
            "                                                                 \n",
            "=================================================================\n",
            "Total params: 107 (428.00 Byte)\n",
            "Trainable params: 107 (428.00 Byte)\n",
            "Non-trainable params: 0 (0.00 Byte)\n",
            "_________________________________________________________________\n"
          ]
        }
      ]
    },
    {
      "cell_type": "code",
      "source": [
        "# Compile the Sequential model together and customize metrics\n",
        "nn_model4.compile(loss=\"binary_crossentropy\", optimizer=\"adam\", metrics=[\"accuracy\"])"
      ],
      "metadata": {
        "id": "pLVKiNAfBYSe"
      },
      "execution_count": 88,
      "outputs": []
    },
    {
      "cell_type": "code",
      "source": [
        "# Fit the model to the training data\n",
        "fit_nn_model4 = nn_model4.fit(X_train3, y_train3, epochs=42)"
      ],
      "metadata": {
        "colab": {
          "base_uri": "https://localhost:8080/"
        },
        "outputId": "54258937-d276-4bc7-8be3-0fe04e3a694e",
        "id": "-HpCUosIBYSe"
      },
      "execution_count": 89,
      "outputs": [
        {
          "output_type": "stream",
          "name": "stdout",
          "text": [
            "Epoch 1/42\n",
            "235/235 [==============================] - 2s 3ms/step - loss: 0.5178 - accuracy: 0.7977\n",
            "Epoch 2/42\n",
            "235/235 [==============================] - 1s 3ms/step - loss: 0.4947 - accuracy: 0.7977\n",
            "Epoch 3/42\n",
            "235/235 [==============================] - 1s 3ms/step - loss: 0.4911 - accuracy: 0.7977\n",
            "Epoch 4/42\n",
            "235/235 [==============================] - 1s 3ms/step - loss: 0.4861 - accuracy: 0.7977\n",
            "Epoch 5/42\n",
            "235/235 [==============================] - 1s 3ms/step - loss: 0.4813 - accuracy: 0.7977\n",
            "Epoch 6/42\n",
            "235/235 [==============================] - 1s 3ms/step - loss: 0.4762 - accuracy: 0.7977\n",
            "Epoch 7/42\n",
            "235/235 [==============================] - 1s 3ms/step - loss: 0.4705 - accuracy: 0.7977\n",
            "Epoch 8/42\n",
            "235/235 [==============================] - 1s 3ms/step - loss: 0.4645 - accuracy: 0.7977\n",
            "Epoch 9/42\n",
            "235/235 [==============================] - 1s 3ms/step - loss: 0.4593 - accuracy: 0.7977\n",
            "Epoch 10/42\n",
            "235/235 [==============================] - 1s 4ms/step - loss: 0.4551 - accuracy: 0.7977\n",
            "Epoch 11/42\n",
            "235/235 [==============================] - 1s 4ms/step - loss: 0.4520 - accuracy: 0.7977\n",
            "Epoch 12/42\n",
            "235/235 [==============================] - 1s 4ms/step - loss: 0.4498 - accuracy: 0.7977\n",
            "Epoch 13/42\n",
            "235/235 [==============================] - 1s 4ms/step - loss: 0.4479 - accuracy: 0.7977\n",
            "Epoch 14/42\n",
            "235/235 [==============================] - 1s 3ms/step - loss: 0.4457 - accuracy: 0.7977\n",
            "Epoch 15/42\n",
            "235/235 [==============================] - 1s 3ms/step - loss: 0.4423 - accuracy: 0.7977\n",
            "Epoch 16/42\n",
            "235/235 [==============================] - 1s 3ms/step - loss: 0.4387 - accuracy: 0.7977\n",
            "Epoch 17/42\n",
            "235/235 [==============================] - 1s 3ms/step - loss: 0.4366 - accuracy: 0.7977\n",
            "Epoch 18/42\n",
            "235/235 [==============================] - 1s 2ms/step - loss: 0.4342 - accuracy: 0.7977\n",
            "Epoch 19/42\n",
            "235/235 [==============================] - 1s 3ms/step - loss: 0.4327 - accuracy: 0.7977\n",
            "Epoch 20/42\n",
            "235/235 [==============================] - 1s 3ms/step - loss: 0.4313 - accuracy: 0.7977\n",
            "Epoch 21/42\n",
            "235/235 [==============================] - 1s 3ms/step - loss: 0.4303 - accuracy: 0.7977\n",
            "Epoch 22/42\n",
            "235/235 [==============================] - 1s 3ms/step - loss: 0.4292 - accuracy: 0.7977\n",
            "Epoch 23/42\n",
            "235/235 [==============================] - 1s 2ms/step - loss: 0.4288 - accuracy: 0.7977\n",
            "Epoch 24/42\n",
            "235/235 [==============================] - 1s 2ms/step - loss: 0.4286 - accuracy: 0.7977\n",
            "Epoch 25/42\n",
            "235/235 [==============================] - 1s 2ms/step - loss: 0.4283 - accuracy: 0.7977\n",
            "Epoch 26/42\n",
            "235/235 [==============================] - 1s 2ms/step - loss: 0.4285 - accuracy: 0.7977\n",
            "Epoch 27/42\n",
            "235/235 [==============================] - 1s 2ms/step - loss: 0.4282 - accuracy: 0.7977\n",
            "Epoch 28/42\n",
            "235/235 [==============================] - 1s 2ms/step - loss: 0.4283 - accuracy: 0.7977\n",
            "Epoch 29/42\n",
            "235/235 [==============================] - 1s 3ms/step - loss: 0.4278 - accuracy: 0.7977\n",
            "Epoch 30/42\n",
            "235/235 [==============================] - 1s 4ms/step - loss: 0.4281 - accuracy: 0.7977\n",
            "Epoch 31/42\n",
            "235/235 [==============================] - 1s 4ms/step - loss: 0.4278 - accuracy: 0.7977\n",
            "Epoch 32/42\n",
            "235/235 [==============================] - 1s 4ms/step - loss: 0.4280 - accuracy: 0.7977\n",
            "Epoch 33/42\n",
            "235/235 [==============================] - 1s 4ms/step - loss: 0.4278 - accuracy: 0.7977\n",
            "Epoch 34/42\n",
            "235/235 [==============================] - 1s 4ms/step - loss: 0.4278 - accuracy: 0.7977\n",
            "Epoch 35/42\n",
            "235/235 [==============================] - 1s 3ms/step - loss: 0.4277 - accuracy: 0.7977\n",
            "Epoch 36/42\n",
            "235/235 [==============================] - 1s 3ms/step - loss: 0.4280 - accuracy: 0.7977\n",
            "Epoch 37/42\n",
            "235/235 [==============================] - 1s 3ms/step - loss: 0.4278 - accuracy: 0.7977\n",
            "Epoch 38/42\n",
            "235/235 [==============================] - 1s 3ms/step - loss: 0.4279 - accuracy: 0.7977\n",
            "Epoch 39/42\n",
            "235/235 [==============================] - 1s 3ms/step - loss: 0.4278 - accuracy: 0.7977\n",
            "Epoch 40/42\n",
            "235/235 [==============================] - 1s 3ms/step - loss: 0.4278 - accuracy: 0.7977\n",
            "Epoch 41/42\n",
            "235/235 [==============================] - 1s 3ms/step - loss: 0.4277 - accuracy: 0.7977\n",
            "Epoch 42/42\n",
            "235/235 [==============================] - 1s 3ms/step - loss: 0.4278 - accuracy: 0.7977\n"
          ]
        }
      ]
    },
    {
      "cell_type": "code",
      "source": [],
      "metadata": {
        "id": "8kgGlaMQBT2e"
      },
      "execution_count": null,
      "outputs": []
    },
    {
      "cell_type": "markdown",
      "metadata": {
        "id": "VBtyoracEfxW"
      },
      "source": [
        "## NN MODEL same as above but with oversampling too... + More Layers + More Units: Build and Train a Neural Network Model (using Scaled+Oversampled Training Data)"
      ]
    },
    {
      "cell_type": "code",
      "source": [
        "# Create the Keras Sequential model\n",
        "nn_model5 = tf.keras.models.Sequential()\n",
        "\n",
        "# Add our first Dense layer, including the input layer\n",
        "nn_model5.add(tf.keras.layers.Dense(units=1, activation=\"relu\", input_dim=13))\n",
        "\n",
        "# Add a second Dense layer, to be a hidden layer\n",
        "nn_model5.add(tf.keras.layers.Dense(units=10, activation=\"linear\"))\n",
        "\n",
        "# Add a third Dense layer, to be another hidden layer\n",
        "nn_model5.add(tf.keras.layers.Dense(units=6, activation=\"tanh\"))\n",
        "\n",
        "# Add the output layer that uses a probability activation function\n",
        "nn_model5.add(tf.keras.layers.Dense(units=1, activation=\"sigmoid\"))\n",
        "\n",
        "# Check the structure of the Sequential model\n",
        "nn_model5.summary()"
      ],
      "metadata": {
        "colab": {
          "base_uri": "https://localhost:8080/"
        },
        "outputId": "a31c69d7-387b-4079-81b3-e9c90fd48529",
        "id": "4YpFalwPEfxX"
      },
      "execution_count": 92,
      "outputs": [
        {
          "output_type": "stream",
          "name": "stdout",
          "text": [
            "Model: \"sequential_16\"\n",
            "_________________________________________________________________\n",
            " Layer (type)                Output Shape              Param #   \n",
            "=================================================================\n",
            " dense_49 (Dense)            (None, 1)                 14        \n",
            "                                                                 \n",
            " dense_50 (Dense)            (None, 10)                20        \n",
            "                                                                 \n",
            " dense_51 (Dense)            (None, 6)                 66        \n",
            "                                                                 \n",
            " dense_52 (Dense)            (None, 1)                 7         \n",
            "                                                                 \n",
            "=================================================================\n",
            "Total params: 107 (428.00 Byte)\n",
            "Trainable params: 107 (428.00 Byte)\n",
            "Non-trainable params: 0 (0.00 Byte)\n",
            "_________________________________________________________________\n"
          ]
        }
      ]
    },
    {
      "cell_type": "code",
      "source": [
        "# Compile the Sequential model together and customize metrics\n",
        "nn_model5.compile(loss=\"binary_crossentropy\", optimizer=\"adam\", metrics=[\"accuracy\"])"
      ],
      "metadata": {
        "id": "52nkYzz8EfxX"
      },
      "execution_count": 93,
      "outputs": []
    },
    {
      "cell_type": "code",
      "source": [
        "# Fit the model to the training data\n",
        "fit_nn_model5 = nn_model5.fit(X_train4, y_train4, epochs=42)"
      ],
      "metadata": {
        "colab": {
          "base_uri": "https://localhost:8080/"
        },
        "outputId": "6c63038f-b030-4086-97f3-ef4e0d90c5ac",
        "id": "1CwFszA0EfxX"
      },
      "execution_count": 94,
      "outputs": [
        {
          "output_type": "stream",
          "name": "stdout",
          "text": [
            "Epoch 1/42\n",
            "374/374 [==============================] - 2s 2ms/step - loss: 0.6892 - accuracy: 0.5197\n",
            "Epoch 2/42\n",
            "374/374 [==============================] - 1s 3ms/step - loss: 0.6526 - accuracy: 0.6286\n",
            "Epoch 3/42\n",
            "374/374 [==============================] - 1s 3ms/step - loss: 0.6172 - accuracy: 0.6689\n",
            "Epoch 4/42\n",
            "374/374 [==============================] - 1s 3ms/step - loss: 0.5996 - accuracy: 0.6873\n",
            "Epoch 5/42\n",
            "374/374 [==============================] - 1s 3ms/step - loss: 0.5922 - accuracy: 0.6941\n",
            "Epoch 6/42\n",
            "374/374 [==============================] - 1s 2ms/step - loss: 0.5875 - accuracy: 0.6998\n",
            "Epoch 7/42\n",
            "374/374 [==============================] - 1s 2ms/step - loss: 0.5846 - accuracy: 0.7034\n",
            "Epoch 8/42\n",
            "374/374 [==============================] - 1s 2ms/step - loss: 0.5827 - accuracy: 0.7058\n",
            "Epoch 9/42\n",
            "374/374 [==============================] - 1s 2ms/step - loss: 0.5816 - accuracy: 0.7096\n",
            "Epoch 10/42\n",
            "374/374 [==============================] - 1s 2ms/step - loss: 0.5812 - accuracy: 0.7119\n",
            "Epoch 11/42\n",
            "374/374 [==============================] - 1s 2ms/step - loss: 0.5807 - accuracy: 0.7129\n",
            "Epoch 12/42\n",
            "374/374 [==============================] - 1s 2ms/step - loss: 0.5800 - accuracy: 0.7111\n",
            "Epoch 13/42\n",
            "374/374 [==============================] - 1s 2ms/step - loss: 0.5802 - accuracy: 0.7110\n",
            "Epoch 14/42\n",
            "374/374 [==============================] - 1s 2ms/step - loss: 0.5792 - accuracy: 0.7124\n",
            "Epoch 15/42\n",
            "374/374 [==============================] - 1s 2ms/step - loss: 0.5791 - accuracy: 0.7111\n",
            "Epoch 16/42\n",
            "374/374 [==============================] - 1s 3ms/step - loss: 0.5790 - accuracy: 0.7101\n",
            "Epoch 17/42\n",
            "374/374 [==============================] - 2s 5ms/step - loss: 0.5787 - accuracy: 0.7107\n",
            "Epoch 18/42\n",
            "374/374 [==============================] - 2s 4ms/step - loss: 0.5785 - accuracy: 0.7115\n",
            "Epoch 19/42\n",
            "374/374 [==============================] - 1s 3ms/step - loss: 0.5782 - accuracy: 0.7109\n",
            "Epoch 20/42\n",
            "374/374 [==============================] - 1s 2ms/step - loss: 0.5782 - accuracy: 0.7111\n",
            "Epoch 21/42\n",
            "374/374 [==============================] - 1s 2ms/step - loss: 0.5782 - accuracy: 0.7111\n",
            "Epoch 22/42\n",
            "374/374 [==============================] - 1s 2ms/step - loss: 0.5781 - accuracy: 0.7096\n",
            "Epoch 23/42\n",
            "374/374 [==============================] - 1s 2ms/step - loss: 0.5782 - accuracy: 0.7123\n",
            "Epoch 24/42\n",
            "374/374 [==============================] - 1s 2ms/step - loss: 0.5780 - accuracy: 0.7112\n",
            "Epoch 25/42\n",
            "374/374 [==============================] - 1s 2ms/step - loss: 0.5782 - accuracy: 0.7129\n",
            "Epoch 26/42\n",
            "374/374 [==============================] - 1s 2ms/step - loss: 0.5778 - accuracy: 0.7139\n",
            "Epoch 27/42\n",
            "374/374 [==============================] - 1s 3ms/step - loss: 0.5778 - accuracy: 0.7130\n",
            "Epoch 28/42\n",
            "374/374 [==============================] - 1s 2ms/step - loss: 0.5781 - accuracy: 0.7098\n",
            "Epoch 29/42\n",
            "374/374 [==============================] - 1s 3ms/step - loss: 0.5778 - accuracy: 0.7100\n",
            "Epoch 30/42\n",
            "374/374 [==============================] - 1s 4ms/step - loss: 0.5781 - accuracy: 0.7113\n",
            "Epoch 31/42\n",
            "374/374 [==============================] - 2s 4ms/step - loss: 0.5781 - accuracy: 0.7089\n",
            "Epoch 32/42\n",
            "374/374 [==============================] - 1s 4ms/step - loss: 0.5780 - accuracy: 0.7106\n",
            "Epoch 33/42\n",
            "374/374 [==============================] - 1s 3ms/step - loss: 0.5777 - accuracy: 0.7109\n",
            "Epoch 34/42\n",
            "374/374 [==============================] - 1s 2ms/step - loss: 0.5781 - accuracy: 0.7105\n",
            "Epoch 35/42\n",
            "374/374 [==============================] - 1s 2ms/step - loss: 0.5781 - accuracy: 0.7120\n",
            "Epoch 36/42\n",
            "374/374 [==============================] - 1s 2ms/step - loss: 0.5778 - accuracy: 0.7135\n",
            "Epoch 37/42\n",
            "374/374 [==============================] - 1s 2ms/step - loss: 0.5779 - accuracy: 0.7117\n",
            "Epoch 38/42\n",
            "374/374 [==============================] - 1s 2ms/step - loss: 0.5779 - accuracy: 0.7101\n",
            "Epoch 39/42\n",
            "374/374 [==============================] - 1s 2ms/step - loss: 0.5779 - accuracy: 0.7115\n",
            "Epoch 40/42\n",
            "374/374 [==============================] - 1s 2ms/step - loss: 0.5781 - accuracy: 0.7133\n",
            "Epoch 41/42\n",
            "374/374 [==============================] - 1s 2ms/step - loss: 0.5778 - accuracy: 0.7089\n",
            "Epoch 42/42\n",
            "374/374 [==============================] - 1s 2ms/step - loss: 0.5779 - accuracy: 0.7113\n"
          ]
        }
      ]
    },
    {
      "cell_type": "code",
      "source": [],
      "metadata": {
        "id": "781SudBABT8u"
      },
      "execution_count": null,
      "outputs": []
    },
    {
      "cell_type": "markdown",
      "metadata": {
        "id": "oIIBSlLQFAX8"
      },
      "source": [
        "## NN MODEL 6: more layers, more units... + More Layers + More Units: Build and Train a Neural Network Model (using Scaled+Oversampled Training Data)"
      ]
    },
    {
      "cell_type": "code",
      "source": [
        "# Create the Keras Sequential model\n",
        "nn_model6 = tf.keras.models.Sequential()\n",
        "\n",
        "# Add our first Dense layer, including the input layer\n",
        "nn_model6.add(tf.keras.layers.Dense(units=1, activation=\"sigmoid\", input_dim=13))\n",
        "\n",
        "# Add a second Dense layer, to be a hidden layer\n",
        "nn_model6.add(tf.keras.layers.Dense(units=40, activation=\"relu\"))\n",
        "\n",
        "# Add a third Dense layer, to be a hidden layer\n",
        "nn_model6.add(tf.keras.layers.Dense(units=40, activation=\"sigmoid\"))\n",
        "\n",
        "# Add a fourth Dense layer, to be another hidden layer\n",
        "nn_model6.add(tf.keras.layers.Dense(units=20, activation=\"linear\"))\n",
        "\n",
        "# Add the output layer that uses a probability activation function\n",
        "nn_model6.add(tf.keras.layers.Dense(units=1, activation=\"sigmoid\"))\n",
        "\n",
        "# Check the structure of the Sequential model\n",
        "nn_model6.summary()"
      ],
      "metadata": {
        "colab": {
          "base_uri": "https://localhost:8080/"
        },
        "outputId": "1b35e5ea-01b7-4813-c654-8d9858616494",
        "id": "DfAq2e5IFAX9"
      },
      "execution_count": 130,
      "outputs": [
        {
          "output_type": "stream",
          "name": "stdout",
          "text": [
            "Model: \"sequential_28\"\n",
            "_________________________________________________________________\n",
            " Layer (type)                Output Shape              Param #   \n",
            "=================================================================\n",
            " dense_120 (Dense)           (None, 1)                 14        \n",
            "                                                                 \n",
            " dense_121 (Dense)           (None, 40)                80        \n",
            "                                                                 \n",
            " dense_122 (Dense)           (None, 40)                1640      \n",
            "                                                                 \n",
            " dense_123 (Dense)           (None, 20)                820       \n",
            "                                                                 \n",
            " dense_124 (Dense)           (None, 1)                 21        \n",
            "                                                                 \n",
            "=================================================================\n",
            "Total params: 2575 (10.06 KB)\n",
            "Trainable params: 2575 (10.06 KB)\n",
            "Non-trainable params: 0 (0.00 Byte)\n",
            "_________________________________________________________________\n"
          ]
        }
      ]
    },
    {
      "cell_type": "code",
      "source": [
        "# Compile the Sequential model together and customize metrics\n",
        "nn_model6.compile(loss=\"binary_crossentropy\", optimizer=\"adam\", metrics=[\"accuracy\"])"
      ],
      "metadata": {
        "id": "EYS1WBVlFAX9"
      },
      "execution_count": 131,
      "outputs": []
    },
    {
      "cell_type": "code",
      "source": [
        "# Fit the model to the training data\n",
        "fit_nn_model6 = nn_model6.fit(X_train3, y_train3, epochs=17)"
      ],
      "metadata": {
        "colab": {
          "base_uri": "https://localhost:8080/"
        },
        "outputId": "61ae6418-4439-4449-c271-bc9277308302",
        "id": "bOPNYZegFAX9"
      },
      "execution_count": 132,
      "outputs": [
        {
          "output_type": "stream",
          "name": "stdout",
          "text": [
            "Epoch 1/17\n",
            "235/235 [==============================] - 3s 2ms/step - loss: 0.5583 - accuracy: 0.7580\n",
            "Epoch 2/17\n",
            "235/235 [==============================] - 1s 2ms/step - loss: 0.5029 - accuracy: 0.7977\n",
            "Epoch 3/17\n",
            "235/235 [==============================] - 1s 2ms/step - loss: 0.4834 - accuracy: 0.7977\n",
            "Epoch 4/17\n",
            "235/235 [==============================] - 1s 2ms/step - loss: 0.4441 - accuracy: 0.8035\n",
            "Epoch 5/17\n",
            "235/235 [==============================] - 1s 3ms/step - loss: 0.4338 - accuracy: 0.8073\n",
            "Epoch 6/17\n",
            "235/235 [==============================] - 1s 2ms/step - loss: 0.4310 - accuracy: 0.8056\n",
            "Epoch 7/17\n",
            "235/235 [==============================] - 1s 4ms/step - loss: 0.4312 - accuracy: 0.8071\n",
            "Epoch 8/17\n",
            "235/235 [==============================] - 1s 4ms/step - loss: 0.4292 - accuracy: 0.8076\n",
            "Epoch 9/17\n",
            "235/235 [==============================] - 1s 4ms/step - loss: 0.4295 - accuracy: 0.8048\n",
            "Epoch 10/17\n",
            "235/235 [==============================] - 1s 4ms/step - loss: 0.4300 - accuracy: 0.8033\n",
            "Epoch 11/17\n",
            "235/235 [==============================] - 1s 4ms/step - loss: 0.4299 - accuracy: 0.8016\n",
            "Epoch 12/17\n",
            "235/235 [==============================] - 1s 2ms/step - loss: 0.4293 - accuracy: 0.8028\n",
            "Epoch 13/17\n",
            "235/235 [==============================] - 1s 3ms/step - loss: 0.4303 - accuracy: 0.8016\n",
            "Epoch 14/17\n",
            "235/235 [==============================] - 1s 2ms/step - loss: 0.4294 - accuracy: 0.7991\n",
            "Epoch 15/17\n",
            "235/235 [==============================] - 1s 2ms/step - loss: 0.4292 - accuracy: 0.7987\n",
            "Epoch 16/17\n",
            "235/235 [==============================] - 1s 2ms/step - loss: 0.4297 - accuracy: 0.8004\n",
            "Epoch 17/17\n",
            "235/235 [==============================] - 1s 2ms/step - loss: 0.4285 - accuracy: 0.8020\n"
          ]
        }
      ]
    },
    {
      "cell_type": "code",
      "source": [],
      "metadata": {
        "id": "LfOTsXEUE-TQ"
      },
      "execution_count": null,
      "outputs": []
    },
    {
      "cell_type": "markdown",
      "metadata": {
        "id": "eHCs32CXJ90Q"
      },
      "source": [
        "## NN MODEL 7: fewer layers...: Build and Train a Neural Network Model (using Scaled+Oversampled Training Data)"
      ]
    },
    {
      "cell_type": "code",
      "source": [
        "# Create the Keras Sequential model\n",
        "nn_model7 = tf.keras.models.Sequential()\n",
        "\n",
        "# Add our first Dense layer, including the input layer\n",
        "nn_model7.add(tf.keras.layers.Dense(units=1, activation=\"tanh\", input_dim=13))\n",
        "\n",
        "# Add a second Dense layer, to be a hidden layer\n",
        "nn_model7.add(tf.keras.layers.Dense(units=13, activation=\"relu\"))\n",
        "\n",
        "# Add a second Dense layer, to be a hidden layer\n",
        "nn_model7.add(tf.keras.layers.Dense(units=5, activation=\"relu\"))\n",
        "\n",
        "# Add the output layer that uses a probability activation function\n",
        "nn_model7.add(tf.keras.layers.Dense(units=1, activation=\"sigmoid\"))\n",
        "\n",
        "# Check the structure of the Sequential model\n",
        "nn_model7.summary()"
      ],
      "metadata": {
        "colab": {
          "base_uri": "https://localhost:8080/"
        },
        "outputId": "df4aa941-6a25-4763-c3a2-67bd672c27d8",
        "id": "31_8HFq1J90R"
      },
      "execution_count": 155,
      "outputs": [
        {
          "output_type": "stream",
          "name": "stdout",
          "text": [
            "Model: \"sequential_34\"\n",
            "_________________________________________________________________\n",
            " Layer (type)                Output Shape              Param #   \n",
            "=================================================================\n",
            " dense_141 (Dense)           (None, 1)                 14        \n",
            "                                                                 \n",
            " dense_142 (Dense)           (None, 13)                26        \n",
            "                                                                 \n",
            " dense_143 (Dense)           (None, 5)                 70        \n",
            "                                                                 \n",
            " dense_144 (Dense)           (None, 1)                 6         \n",
            "                                                                 \n",
            "=================================================================\n",
            "Total params: 116 (464.00 Byte)\n",
            "Trainable params: 116 (464.00 Byte)\n",
            "Non-trainable params: 0 (0.00 Byte)\n",
            "_________________________________________________________________\n"
          ]
        }
      ]
    },
    {
      "cell_type": "code",
      "source": [
        "# Compile the Sequential model together and customize metrics\n",
        "nn_model7.compile(loss=\"binary_crossentropy\", optimizer=\"adam\", metrics=[\"accuracy\"])"
      ],
      "metadata": {
        "id": "2OiARQ_uJ90R"
      },
      "execution_count": 156,
      "outputs": []
    },
    {
      "cell_type": "code",
      "source": [
        "# Fit the model to the training data\n",
        "fit_nn_model7 = nn_model7.fit(X_train3, y_train3, epochs=17)"
      ],
      "metadata": {
        "colab": {
          "base_uri": "https://localhost:8080/"
        },
        "outputId": "2445419c-6dbb-45e3-c554-7b72028a67d1",
        "id": "b-YSlZhkJ90R"
      },
      "execution_count": 157,
      "outputs": [
        {
          "output_type": "stream",
          "name": "stdout",
          "text": [
            "Epoch 1/17\n",
            "235/235 [==============================] - 2s 2ms/step - loss: 0.5616 - accuracy: 0.7936\n",
            "Epoch 2/17\n",
            "235/235 [==============================] - 1s 3ms/step - loss: 0.5034 - accuracy: 0.7977\n",
            "Epoch 3/17\n",
            "235/235 [==============================] - 1s 2ms/step - loss: 0.4939 - accuracy: 0.7977\n",
            "Epoch 4/17\n",
            "235/235 [==============================] - 1s 2ms/step - loss: 0.4616 - accuracy: 0.7977\n",
            "Epoch 5/17\n",
            "235/235 [==============================] - 1s 3ms/step - loss: 0.4350 - accuracy: 0.7976\n",
            "Epoch 6/17\n",
            "235/235 [==============================] - 1s 3ms/step - loss: 0.4297 - accuracy: 0.7971\n",
            "Epoch 7/17\n",
            "235/235 [==============================] - 1s 4ms/step - loss: 0.4278 - accuracy: 0.7951\n",
            "Epoch 8/17\n",
            "235/235 [==============================] - 1s 4ms/step - loss: 0.4278 - accuracy: 0.7980\n",
            "Epoch 9/17\n",
            "235/235 [==============================] - 1s 5ms/step - loss: 0.4276 - accuracy: 0.7953\n",
            "Epoch 10/17\n",
            "235/235 [==============================] - 1s 5ms/step - loss: 0.4276 - accuracy: 0.7947\n",
            "Epoch 11/17\n",
            "235/235 [==============================] - 1s 5ms/step - loss: 0.4272 - accuracy: 0.7972\n",
            "Epoch 12/17\n",
            "235/235 [==============================] - 1s 2ms/step - loss: 0.4270 - accuracy: 0.7967\n",
            "Epoch 13/17\n",
            "235/235 [==============================] - 1s 2ms/step - loss: 0.4274 - accuracy: 0.7937\n",
            "Epoch 14/17\n",
            "235/235 [==============================] - 1s 2ms/step - loss: 0.4273 - accuracy: 0.7933\n",
            "Epoch 15/17\n",
            "235/235 [==============================] - 1s 2ms/step - loss: 0.4271 - accuracy: 0.7944\n",
            "Epoch 16/17\n",
            "235/235 [==============================] - 1s 2ms/step - loss: 0.4271 - accuracy: 0.7959\n",
            "Epoch 17/17\n",
            "235/235 [==============================] - 1s 2ms/step - loss: 0.4271 - accuracy: 0.7953\n"
          ]
        }
      ]
    },
    {
      "cell_type": "code",
      "source": [],
      "metadata": {
        "id": "P2FEo-FRLfTd"
      },
      "execution_count": null,
      "outputs": []
    },
    {
      "cell_type": "code",
      "source": [
        "# Evaluate the model using the test data\n",
        "model_loss, model_accuracy = nn_model7.evaluate(X_test3,y_test3,verbose=2)\n",
        "print(f\"Loss: {model_loss}, Accuracy: {model_accuracy}\")"
      ],
      "metadata": {
        "colab": {
          "base_uri": "https://localhost:8080/"
        },
        "id": "QyaNahLELfXy",
        "outputId": "13532182-9132-4e1e-e7f4-506d31ca2833"
      },
      "execution_count": 161,
      "outputs": [
        {
          "output_type": "stream",
          "name": "stdout",
          "text": [
            "79/79 - 1s - loss: 0.4238 - accuracy: 0.8044 - 991ms/epoch - 13ms/step\n",
            "Loss: 0.42378199100494385, Accuracy: 0.8044000267982483\n"
          ]
        }
      ]
    },
    {
      "cell_type": "code",
      "source": [
        "# Evaluate the model using the test data\n",
        "model_loss, model_accuracy = nn_model6.evaluate(X_test3,y_test3,verbose=2)\n",
        "print(f\"Loss: {model_loss}, Accuracy: {model_accuracy}\")"
      ],
      "metadata": {
        "colab": {
          "base_uri": "https://localhost:8080/"
        },
        "id": "l35qKEpdLfhN",
        "outputId": "c8eea3e3-6563-4349-dd81-eb4acf460e92"
      },
      "execution_count": 162,
      "outputs": [
        {
          "output_type": "stream",
          "name": "stdout",
          "text": [
            "79/79 - 0s - loss: 0.4468 - accuracy: 0.7920 - 272ms/epoch - 3ms/step\n",
            "Loss: 0.44683241844177246, Accuracy: 0.7919999957084656\n"
          ]
        }
      ]
    },
    {
      "cell_type": "code",
      "source": [
        "# Evaluate the model using the test data\n",
        "model_loss, model_accuracy = nn_model5.evaluate(X_test4,y_test4,verbose=2)\n",
        "print(f\"Loss: {model_loss}, Accuracy: {model_accuracy}\")"
      ],
      "metadata": {
        "colab": {
          "base_uri": "https://localhost:8080/"
        },
        "id": "UII45oNzVGg9",
        "outputId": "7b716a9b-4c63-4ec5-f865-f0d18eca0391"
      },
      "execution_count": 164,
      "outputs": [
        {
          "output_type": "stream",
          "name": "stdout",
          "text": [
            "79/79 - 0s - loss: 0.5740 - accuracy: 0.7048 - 420ms/epoch - 5ms/step\n",
            "Loss: 0.574043333530426, Accuracy: 0.704800009727478\n"
          ]
        }
      ]
    },
    {
      "cell_type": "code",
      "source": [
        "# Evaluate the model using the test data\n",
        "model_loss, model_accuracy = nn_model4.evaluate(X_test3,y_test3,verbose=2)\n",
        "print(f\"Loss: {model_loss}, Accuracy: {model_accuracy}\")"
      ],
      "metadata": {
        "colab": {
          "base_uri": "https://localhost:8080/"
        },
        "id": "psM29HFXVGjQ",
        "outputId": "c6d1be47-5e49-426f-dfe8-5240cb8afca2"
      },
      "execution_count": 165,
      "outputs": [
        {
          "output_type": "stream",
          "name": "stdout",
          "text": [
            "79/79 - 0s - loss: 0.6358 - accuracy: 0.7920 - 347ms/epoch - 4ms/step\n",
            "Loss: 0.6358230113983154, Accuracy: 0.7919999957084656\n"
          ]
        }
      ]
    },
    {
      "cell_type": "code",
      "source": [
        "# Evaluate the model using the test data\n",
        "model_loss, model_accuracy = nn_model3.evaluate(X_test3,y_test3,verbose=2)\n",
        "print(f\"Loss: {model_loss}, Accuracy: {model_accuracy}\")"
      ],
      "metadata": {
        "colab": {
          "base_uri": "https://localhost:8080/"
        },
        "id": "FdNaJNcCVORW",
        "outputId": "da067370-0ca4-4d9c-e208-144a6438969b"
      },
      "execution_count": 166,
      "outputs": [
        {
          "output_type": "stream",
          "name": "stdout",
          "text": [
            "79/79 - 1s - loss: 0.4240 - accuracy: 0.7920 - 529ms/epoch - 7ms/step\n",
            "Loss: 0.423982709646225, Accuracy: 0.7919999957084656\n"
          ]
        }
      ]
    },
    {
      "cell_type": "code",
      "source": [
        "# Evaluate the model using the test data\n",
        "model_loss, model_accuracy = nn_model2.evaluate(X_test4,y_test4,verbose=2)\n",
        "print(f\"Loss: {model_loss}, Accuracy: {model_accuracy}\")"
      ],
      "metadata": {
        "colab": {
          "base_uri": "https://localhost:8080/"
        },
        "id": "Is3fmpDjVM-U",
        "outputId": "9874b29e-091c-4da2-ba83-58563ca9aa41"
      },
      "execution_count": 167,
      "outputs": [
        {
          "output_type": "stream",
          "name": "stdout",
          "text": [
            "79/79 - 0s - loss: 0.5615 - accuracy: 0.7192 - 314ms/epoch - 4ms/step\n",
            "Loss: 0.5615013837814331, Accuracy: 0.7192000150680542\n"
          ]
        }
      ]
    },
    {
      "cell_type": "code",
      "source": [
        "# Evaluate the model using the test data\n",
        "model_loss, model_accuracy = nn_model1.evaluate(X_test3,y_test3,verbose=2)\n",
        "print(f\"Loss: {model_loss}, Accuracy: {model_accuracy}\")"
      ],
      "metadata": {
        "colab": {
          "base_uri": "https://localhost:8080/"
        },
        "id": "aJ1uSOXkVNAz",
        "outputId": "defa4fdb-71e5-4e5f-8bd6-85be47954dc4"
      },
      "execution_count": 169,
      "outputs": [
        {
          "output_type": "stream",
          "name": "stdout",
          "text": [
            "79/79 - 0s - loss: 0.4293 - accuracy: 0.8116 - 227ms/epoch - 3ms/step\n",
            "Loss: 0.42926910519599915, Accuracy: 0.8116000294685364\n"
          ]
        }
      ]
    },
    {
      "cell_type": "code",
      "source": [],
      "metadata": {
        "id": "vpu4s-oRVNDO"
      },
      "execution_count": null,
      "outputs": []
    },
    {
      "cell_type": "code",
      "source": [],
      "metadata": {
        "id": "OSXvHcUIVNFK"
      },
      "execution_count": null,
      "outputs": []
    }
  ],
  "metadata": {
    "kernelspec": {
      "display_name": "Python 3 (ipykernel)",
      "language": "python",
      "name": "python3"
    },
    "language_info": {
      "codemirror_mode": {
        "name": "ipython",
        "version": 3
      },
      "file_extension": ".py",
      "mimetype": "text/x-python",
      "name": "python",
      "nbconvert_exporter": "python",
      "pygments_lexer": "ipython3",
      "version": "3.10.11"
    },
    "vscode": {
      "interpreter": {
        "hash": "31f2aee4e71d21fbe5cf8b01ff0e069b9275f58929596ceb00d14d90e3e16cd6"
      }
    },
    "colab": {
      "provenance": []
    }
  },
  "nbformat": 4,
  "nbformat_minor": 0
}